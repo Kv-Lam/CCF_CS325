{
 "cells": [
  {
   "cell_type": "markdown",
   "id": "150555af",
   "metadata": {},
   "source": [
    "## Missing libraries?\n",
    "\n",
    "Uncomment and run the cell for any of the libraries you are missing."
   ]
  },
  {
   "cell_type": "markdown",
   "id": "fa9fa8a4",
   "metadata": {},
   "source": [
    "**NumPy**"
   ]
  },
  {
   "cell_type": "code",
   "execution_count": 1,
   "id": "a336cbe2",
   "metadata": {},
   "outputs": [],
   "source": [
    "#!pip install numpy"
   ]
  },
  {
   "cell_type": "markdown",
   "id": "540d1d20",
   "metadata": {},
   "source": [
    "**Pandas**"
   ]
  },
  {
   "cell_type": "code",
   "execution_count": 2,
   "id": "9f804f88",
   "metadata": {},
   "outputs": [],
   "source": [
    "#!pip install pandas"
   ]
  },
  {
   "cell_type": "markdown",
   "id": "8aed0f40",
   "metadata": {},
   "source": [
    "**Seaborn**"
   ]
  },
  {
   "cell_type": "code",
   "execution_count": 3,
   "id": "325b6c18",
   "metadata": {},
   "outputs": [],
   "source": [
    "#!pip install seaborn"
   ]
  },
  {
   "cell_type": "markdown",
   "id": "5cf3467f",
   "metadata": {},
   "source": [
    "**Matplotlib**"
   ]
  },
  {
   "cell_type": "code",
   "execution_count": 4,
   "id": "5a3dd0bd",
   "metadata": {},
   "outputs": [],
   "source": [
    "#!pip install matplotlib"
   ]
  },
  {
   "cell_type": "markdown",
   "id": "32451f38",
   "metadata": {},
   "source": [
    "**IPython**"
   ]
  },
  {
   "cell_type": "code",
   "execution_count": 5,
   "id": "d84153d0",
   "metadata": {},
   "outputs": [],
   "source": [
    "#!pip install ipython"
   ]
  },
  {
   "cell_type": "markdown",
   "id": "75a9c0a6",
   "metadata": {},
   "source": [
    "**Scikit-Learn**"
   ]
  },
  {
   "cell_type": "code",
   "execution_count": 6,
   "id": "8f1fcc0a",
   "metadata": {},
   "outputs": [],
   "source": [
    "#!pip install scikit-learn"
   ]
  },
  {
   "cell_type": "markdown",
   "id": "1cff9a3d",
   "metadata": {},
   "source": [
    "**Statsmodels**"
   ]
  },
  {
   "cell_type": "code",
   "execution_count": 7,
   "id": "eae19adb",
   "metadata": {},
   "outputs": [],
   "source": [
    "#!pip install statsmodels"
   ]
  },
  {
   "cell_type": "markdown",
   "id": "e1d3429c",
   "metadata": {
    "papermill": {
     "duration": 0.010471,
     "end_time": "2024-10-02T00:22:34.627999",
     "exception": false,
     "start_time": "2024-10-02T00:22:34.617528",
     "status": "completed"
    },
    "tags": []
   },
   "source": [
    "## Credit Card Fraud Kaggle Project\n",
    "\n",
    "Logistic Regression and a random forest model to predict fraudulent transactions on credit card data. "
   ]
  },
  {
   "cell_type": "code",
   "execution_count": 8,
   "id": "db0a2cd4",
   "metadata": {
    "execution": {
     "iopub.execute_input": "2024-10-02T00:22:34.650330Z",
     "iopub.status.busy": "2024-10-02T00:22:34.649666Z",
     "iopub.status.idle": "2024-10-02T00:22:40.409856Z",
     "shell.execute_reply": "2024-10-02T00:22:40.408518Z"
    },
    "papermill": {
     "duration": 5.775034,
     "end_time": "2024-10-02T00:22:40.412997",
     "exception": false,
     "start_time": "2024-10-02T00:22:34.637963",
     "status": "completed"
    },
    "tags": []
   },
   "outputs": [],
   "source": [
    "import pandas as pd\n",
    "import numpy as np\n",
    "import seaborn as sns\n",
    "import matplotlib.pyplot as plt\n",
    "import math\n",
    "from IPython.display import display\n",
    "from sklearn.preprocessing import LabelEncoder\n",
    "from sklearn.ensemble import RandomForestClassifier\n",
    "from sklearn.linear_model import LogisticRegression\n",
    "from sklearn.metrics import confusion_matrix, roc_curve, roc_auc_score, classification_report, average_precision_score, precision_recall_curve\n",
    "import statsmodels.formula.api as smf\n",
    "import statsmodels.api as sm\n",
    "from sklearn.model_selection import train_test_split, cross_val_score\n",
    "import warnings\n",
    "warnings.filterwarnings('ignore')\n",
    "\n",
    "rState = 42\n",
    "\n",
    "test_size = 0.3 #We will test different test sizes for better performance.\n",
    "prediction_threshold = 0.4 #We will test different thresholds for better performance."
   ]
  },
  {
   "cell_type": "code",
   "execution_count": 9,
   "id": "603c3551",
   "metadata": {
    "execution": {
     "iopub.execute_input": "2024-10-02T00:22:40.436107Z",
     "iopub.status.busy": "2024-10-02T00:22:40.435438Z",
     "iopub.status.idle": "2024-10-02T00:22:40.563793Z",
     "shell.execute_reply": "2024-10-02T00:22:40.562682Z"
    },
    "papermill": {
     "duration": 0.142976,
     "end_time": "2024-10-02T00:22:40.567075",
     "exception": false,
     "start_time": "2024-10-02T00:22:40.424099",
     "status": "completed"
    },
    "tags": []
   },
   "outputs": [],
   "source": [
    "#Load the dataset.\n",
    "df = pd.read_csv(\"fraud_data.csv\") #Do I need to make this read from a URL or is it fine to be a local file?"
   ]
  },
  {
   "cell_type": "code",
   "execution_count": 10,
   "id": "44606dde",
   "metadata": {
    "execution": {
     "iopub.execute_input": "2024-10-02T00:22:40.590110Z",
     "iopub.status.busy": "2024-10-02T00:22:40.589667Z",
     "iopub.status.idle": "2024-10-02T00:22:40.634953Z",
     "shell.execute_reply": "2024-10-02T00:22:40.633680Z"
    },
    "papermill": {
     "duration": 0.059621,
     "end_time": "2024-10-02T00:22:40.638141",
     "exception": false,
     "start_time": "2024-10-02T00:22:40.578520",
     "status": "completed"
    },
    "tags": []
   },
   "outputs": [
    {
     "data": {
      "text/html": [
       "<div>\n",
       "<style scoped>\n",
       "    .dataframe tbody tr th:only-of-type {\n",
       "        vertical-align: middle;\n",
       "    }\n",
       "\n",
       "    .dataframe tbody tr th {\n",
       "        vertical-align: top;\n",
       "    }\n",
       "\n",
       "    .dataframe thead th {\n",
       "        text-align: right;\n",
       "    }\n",
       "</style>\n",
       "<table border=\"1\" class=\"dataframe\">\n",
       "  <thead>\n",
       "    <tr style=\"text-align: right;\">\n",
       "      <th></th>\n",
       "      <th>trans_date_trans_time</th>\n",
       "      <th>merchant</th>\n",
       "      <th>category</th>\n",
       "      <th>amt</th>\n",
       "      <th>city</th>\n",
       "      <th>state</th>\n",
       "      <th>lat</th>\n",
       "      <th>long</th>\n",
       "      <th>city_pop</th>\n",
       "      <th>job</th>\n",
       "      <th>dob</th>\n",
       "      <th>trans_num</th>\n",
       "      <th>merch_lat</th>\n",
       "      <th>merch_long</th>\n",
       "      <th>is_fraud</th>\n",
       "    </tr>\n",
       "  </thead>\n",
       "  <tbody>\n",
       "    <tr>\n",
       "      <th>0</th>\n",
       "      <td>04-01-2019 00:58</td>\n",
       "      <td>\"Stokes, Christiansen and Sipes\"</td>\n",
       "      <td>grocery_net</td>\n",
       "      <td>14.37</td>\n",
       "      <td>Wales</td>\n",
       "      <td>AK</td>\n",
       "      <td>64.7556</td>\n",
       "      <td>-165.6723</td>\n",
       "      <td>145</td>\n",
       "      <td>\"Administrator, education\"</td>\n",
       "      <td>09-11-1939</td>\n",
       "      <td>a3806e984cec6ac0096d8184c64ad3a1</td>\n",
       "      <td>65.654142</td>\n",
       "      <td>-164.722603</td>\n",
       "      <td>1</td>\n",
       "    </tr>\n",
       "    <tr>\n",
       "      <th>1</th>\n",
       "      <td>04-01-2019 15:06</td>\n",
       "      <td>Predovic Inc</td>\n",
       "      <td>shopping_net</td>\n",
       "      <td>966.11</td>\n",
       "      <td>Wales</td>\n",
       "      <td>AK</td>\n",
       "      <td>64.7556</td>\n",
       "      <td>-165.6723</td>\n",
       "      <td>145</td>\n",
       "      <td>\"Administrator, education\"</td>\n",
       "      <td>09-11-1939</td>\n",
       "      <td>a59185fe1b9ccf21323f581d7477573f</td>\n",
       "      <td>65.468863</td>\n",
       "      <td>-165.473127</td>\n",
       "      <td>1</td>\n",
       "    </tr>\n",
       "    <tr>\n",
       "      <th>2</th>\n",
       "      <td>04-01-2019 22:37</td>\n",
       "      <td>Wisozk and Sons</td>\n",
       "      <td>misc_pos</td>\n",
       "      <td>49.61</td>\n",
       "      <td>Wales</td>\n",
       "      <td>AK</td>\n",
       "      <td>64.7556</td>\n",
       "      <td>-165.6723</td>\n",
       "      <td>145</td>\n",
       "      <td>\"Administrator, education\"</td>\n",
       "      <td>09-11-1939</td>\n",
       "      <td>86ba3a888b42cd3925881fa34177b4e0</td>\n",
       "      <td>65.347667</td>\n",
       "      <td>-165.914542</td>\n",
       "      <td>1</td>\n",
       "    </tr>\n",
       "    <tr>\n",
       "      <th>3</th>\n",
       "      <td>04-01-2019 23:06</td>\n",
       "      <td>Murray-Smitham</td>\n",
       "      <td>grocery_pos</td>\n",
       "      <td>295.26</td>\n",
       "      <td>Wales</td>\n",
       "      <td>AK</td>\n",
       "      <td>64.7556</td>\n",
       "      <td>-165.6723</td>\n",
       "      <td>145</td>\n",
       "      <td>\"Administrator, education\"</td>\n",
       "      <td>09-11-1939</td>\n",
       "      <td>3a068fe1d856f0ecedbed33e4b5f4496</td>\n",
       "      <td>64.445035</td>\n",
       "      <td>-166.080207</td>\n",
       "      <td>1</td>\n",
       "    </tr>\n",
       "    <tr>\n",
       "      <th>4</th>\n",
       "      <td>04-01-2019 23:59</td>\n",
       "      <td>Friesen Lt</td>\n",
       "      <td>health_fitness</td>\n",
       "      <td>18.17</td>\n",
       "      <td>Wales</td>\n",
       "      <td>AK</td>\n",
       "      <td>64.7556</td>\n",
       "      <td>-165.6723</td>\n",
       "      <td>145</td>\n",
       "      <td>\"Administrator, education\"</td>\n",
       "      <td>09-11-1939</td>\n",
       "      <td>891cdd1191028759dc20dc224347a0ff</td>\n",
       "      <td>65.447094</td>\n",
       "      <td>-165.446843</td>\n",
       "      <td>1</td>\n",
       "    </tr>\n",
       "    <tr>\n",
       "      <th>...</th>\n",
       "      <td>...</td>\n",
       "      <td>...</td>\n",
       "      <td>...</td>\n",
       "      <td>...</td>\n",
       "      <td>...</td>\n",
       "      <td>...</td>\n",
       "      <td>...</td>\n",
       "      <td>...</td>\n",
       "      <td>...</td>\n",
       "      <td>...</td>\n",
       "      <td>...</td>\n",
       "      <td>...</td>\n",
       "      <td>...</td>\n",
       "      <td>...</td>\n",
       "      <td>...</td>\n",
       "    </tr>\n",
       "    <tr>\n",
       "      <th>14441</th>\n",
       "      <td>22-01-2019 00:37</td>\n",
       "      <td>Hudson-Grady</td>\n",
       "      <td>shopping_pos</td>\n",
       "      <td>122.00</td>\n",
       "      <td>Athena</td>\n",
       "      <td>OR</td>\n",
       "      <td>45.8289</td>\n",
       "      <td>-118.4971</td>\n",
       "      <td>1302</td>\n",
       "      <td>Dealer</td>\n",
       "      <td>18-10-1976</td>\n",
       "      <td>699a4c06b22711bf3e0d8ef91232d356</td>\n",
       "      <td>46.442439</td>\n",
       "      <td>-118.524214</td>\n",
       "      <td>0</td>\n",
       "    </tr>\n",
       "    <tr>\n",
       "      <th>14442</th>\n",
       "      <td>22-01-2019 00:41</td>\n",
       "      <td>\"Nienow, Ankunding and Collie\"</td>\n",
       "      <td>misc_pos</td>\n",
       "      <td>9.07</td>\n",
       "      <td>Gardiner</td>\n",
       "      <td>OR</td>\n",
       "      <td>43.7857</td>\n",
       "      <td>-124.1437</td>\n",
       "      <td>260</td>\n",
       "      <td>\"Engineer, maintenance\"</td>\n",
       "      <td>01-09-1956</td>\n",
       "      <td>080d620d24815c7d6c637cf0b71dde8e</td>\n",
       "      <td>42.901265</td>\n",
       "      <td>-124.995317</td>\n",
       "      <td>0</td>\n",
       "    </tr>\n",
       "    <tr>\n",
       "      <th>14443</th>\n",
       "      <td>22-01-2019 00:42</td>\n",
       "      <td>Pacocha-O'Reilly</td>\n",
       "      <td>grocery_pos</td>\n",
       "      <td>104.84</td>\n",
       "      <td>Alva</td>\n",
       "      <td>WY</td>\n",
       "      <td>44.6873</td>\n",
       "      <td>-104.4414</td>\n",
       "      <td>110</td>\n",
       "      <td>\"Administrator, local government\"</td>\n",
       "      <td>16-05-1973</td>\n",
       "      <td>3c346c8cd627c5fe3ed57430db2e9ae7</td>\n",
       "      <td>45.538062</td>\n",
       "      <td>-104.542117</td>\n",
       "      <td>0</td>\n",
       "    </tr>\n",
       "    <tr>\n",
       "      <th>14444</th>\n",
       "      <td>22-01-2019 00:48</td>\n",
       "      <td>\"Bins, Balistreri and Beatty\"</td>\n",
       "      <td>shopping_pos</td>\n",
       "      <td>268.16</td>\n",
       "      <td>Wales</td>\n",
       "      <td>AK</td>\n",
       "      <td>64.7556</td>\n",
       "      <td>-165.6723</td>\n",
       "      <td>145</td>\n",
       "      <td>\"Administrator, education\"</td>\n",
       "      <td>09-11-1939</td>\n",
       "      <td>e66ffcc95ba7fc490486242af1205d04</td>\n",
       "      <td>64.081462</td>\n",
       "      <td>-165.898698</td>\n",
       "      <td>0</td>\n",
       "    </tr>\n",
       "    <tr>\n",
       "      <th>14445</th>\n",
       "      <td>22-01-2019 00:55</td>\n",
       "      <td>Daugherty-Thompson</td>\n",
       "      <td>food_dining</td>\n",
       "      <td>50.09</td>\n",
       "      <td>Unionville</td>\n",
       "      <td>MO</td>\n",
       "      <td>40.4815</td>\n",
       "      <td>-92.9951</td>\n",
       "      <td>3805</td>\n",
       "      <td>\"Investment banker, corporate\"</td>\n",
       "      <td>15-09-1950</td>\n",
       "      <td>65e7370f473f9b9d75796c8033a7c929</td>\n",
       "      <td>40.387243</td>\n",
       "      <td>-92.224871</td>\n",
       "      <td>0</td>\n",
       "    </tr>\n",
       "  </tbody>\n",
       "</table>\n",
       "<p>14446 rows × 15 columns</p>\n",
       "</div>"
      ],
      "text/plain": [
       "      trans_date_trans_time                          merchant        category  \\\n",
       "0          04-01-2019 00:58  \"Stokes, Christiansen and Sipes\"     grocery_net   \n",
       "1          04-01-2019 15:06                      Predovic Inc    shopping_net   \n",
       "2          04-01-2019 22:37                   Wisozk and Sons        misc_pos   \n",
       "3          04-01-2019 23:06                    Murray-Smitham     grocery_pos   \n",
       "4          04-01-2019 23:59                        Friesen Lt  health_fitness   \n",
       "...                     ...                               ...             ...   \n",
       "14441      22-01-2019 00:37                      Hudson-Grady    shopping_pos   \n",
       "14442      22-01-2019 00:41    \"Nienow, Ankunding and Collie\"        misc_pos   \n",
       "14443      22-01-2019 00:42                  Pacocha-O'Reilly     grocery_pos   \n",
       "14444      22-01-2019 00:48     \"Bins, Balistreri and Beatty\"    shopping_pos   \n",
       "14445      22-01-2019 00:55                Daugherty-Thompson     food_dining   \n",
       "\n",
       "          amt        city state      lat      long  city_pop  \\\n",
       "0       14.37       Wales    AK  64.7556 -165.6723       145   \n",
       "1      966.11       Wales    AK  64.7556 -165.6723       145   \n",
       "2       49.61       Wales    AK  64.7556 -165.6723       145   \n",
       "3      295.26       Wales    AK  64.7556 -165.6723       145   \n",
       "4       18.17       Wales    AK  64.7556 -165.6723       145   \n",
       "...       ...         ...   ...      ...       ...       ...   \n",
       "14441  122.00      Athena    OR  45.8289 -118.4971      1302   \n",
       "14442    9.07    Gardiner    OR  43.7857 -124.1437       260   \n",
       "14443  104.84        Alva    WY  44.6873 -104.4414       110   \n",
       "14444  268.16       Wales    AK  64.7556 -165.6723       145   \n",
       "14445   50.09  Unionville    MO  40.4815  -92.9951      3805   \n",
       "\n",
       "                                     job         dob  \\\n",
       "0             \"Administrator, education\"  09-11-1939   \n",
       "1             \"Administrator, education\"  09-11-1939   \n",
       "2             \"Administrator, education\"  09-11-1939   \n",
       "3             \"Administrator, education\"  09-11-1939   \n",
       "4             \"Administrator, education\"  09-11-1939   \n",
       "...                                  ...         ...   \n",
       "14441                             Dealer  18-10-1976   \n",
       "14442            \"Engineer, maintenance\"  01-09-1956   \n",
       "14443  \"Administrator, local government\"  16-05-1973   \n",
       "14444         \"Administrator, education\"  09-11-1939   \n",
       "14445     \"Investment banker, corporate\"  15-09-1950   \n",
       "\n",
       "                              trans_num  merch_lat  merch_long is_fraud  \n",
       "0      a3806e984cec6ac0096d8184c64ad3a1  65.654142 -164.722603        1  \n",
       "1      a59185fe1b9ccf21323f581d7477573f  65.468863 -165.473127        1  \n",
       "2      86ba3a888b42cd3925881fa34177b4e0  65.347667 -165.914542        1  \n",
       "3      3a068fe1d856f0ecedbed33e4b5f4496  64.445035 -166.080207        1  \n",
       "4      891cdd1191028759dc20dc224347a0ff  65.447094 -165.446843        1  \n",
       "...                                 ...        ...         ...      ...  \n",
       "14441  699a4c06b22711bf3e0d8ef91232d356  46.442439 -118.524214        0  \n",
       "14442  080d620d24815c7d6c637cf0b71dde8e  42.901265 -124.995317        0  \n",
       "14443  3c346c8cd627c5fe3ed57430db2e9ae7  45.538062 -104.542117        0  \n",
       "14444  e66ffcc95ba7fc490486242af1205d04  64.081462 -165.898698        0  \n",
       "14445  65e7370f473f9b9d75796c8033a7c929  40.387243  -92.224871        0  \n",
       "\n",
       "[14446 rows x 15 columns]"
      ]
     },
     "execution_count": 10,
     "metadata": {},
     "output_type": "execute_result"
    }
   ],
   "source": [
    "df #Display the first few rows of the dataset to understand its structure and contents."
   ]
  },
  {
   "cell_type": "code",
   "execution_count": 11,
   "id": "2a13b98e",
   "metadata": {
    "execution": {
     "iopub.execute_input": "2024-10-02T00:22:40.661015Z",
     "iopub.status.busy": "2024-10-02T00:22:40.660422Z",
     "iopub.status.idle": "2024-10-02T00:22:40.698465Z",
     "shell.execute_reply": "2024-10-02T00:22:40.697096Z"
    },
    "papermill": {
     "duration": 0.053869,
     "end_time": "2024-10-02T00:22:40.702146",
     "exception": false,
     "start_time": "2024-10-02T00:22:40.648277",
     "status": "completed"
    },
    "tags": []
   },
   "outputs": [
    {
     "name": "stdout",
     "output_type": "stream",
     "text": [
      "<class 'pandas.core.frame.DataFrame'>\n",
      "RangeIndex: 14446 entries, 0 to 14445\n",
      "Data columns (total 15 columns):\n",
      " #   Column                 Non-Null Count  Dtype  \n",
      "---  ------                 --------------  -----  \n",
      " 0   trans_date_trans_time  14446 non-null  object \n",
      " 1   merchant               14446 non-null  object \n",
      " 2   category               14446 non-null  object \n",
      " 3   amt                    14446 non-null  float64\n",
      " 4   city                   14446 non-null  object \n",
      " 5   state                  14446 non-null  object \n",
      " 6   lat                    14446 non-null  float64\n",
      " 7   long                   14446 non-null  float64\n",
      " 8   city_pop               14446 non-null  int64  \n",
      " 9   job                    14446 non-null  object \n",
      " 10  dob                    14446 non-null  object \n",
      " 11  trans_num              14446 non-null  object \n",
      " 12  merch_lat              14446 non-null  float64\n",
      " 13  merch_long             14446 non-null  float64\n",
      " 14  is_fraud               14446 non-null  object \n",
      "dtypes: float64(5), int64(1), object(9)\n",
      "memory usage: 1.7+ MB\n",
      "None\n"
     ]
    }
   ],
   "source": [
    "print(df.info()) #Display the information about the dataset, including the number of rows, columns, and data types."
   ]
  },
  {
   "cell_type": "code",
   "execution_count": 12,
   "id": "ec9ec72c",
   "metadata": {
    "execution": {
     "iopub.execute_input": "2024-10-02T00:22:40.728259Z",
     "iopub.status.busy": "2024-10-02T00:22:40.727789Z",
     "iopub.status.idle": "2024-10-02T00:22:40.740926Z",
     "shell.execute_reply": "2024-10-02T00:22:40.739700Z"
    },
    "papermill": {
     "duration": 0.028382,
     "end_time": "2024-10-02T00:22:40.743885",
     "exception": false,
     "start_time": "2024-10-02T00:22:40.715503",
     "status": "completed"
    },
    "tags": []
   },
   "outputs": [
    {
     "data": {
      "text/plain": [
       "is_fraud\n",
       "0                         12600\n",
       "1                          1844\n",
       "1\"2020-12-24 16:56:24\"        1\n",
       "0\"2019-01-01 00:00:44\"        1\n",
       "Name: count, dtype: int64"
      ]
     },
     "execution_count": 12,
     "metadata": {},
     "output_type": "execute_result"
    }
   ],
   "source": [
    "#Value counts show that the data is imbalanced. Which is what would be expected for fraudulent activity.\n",
    "df['is_fraud'].value_counts() #0 is not a fraud, 1 is a fraud."
   ]
  },
  {
   "cell_type": "code",
   "execution_count": 13,
   "id": "f98f8788",
   "metadata": {
    "execution": {
     "iopub.execute_input": "2024-10-02T00:22:40.768269Z",
     "iopub.status.busy": "2024-10-02T00:22:40.767848Z",
     "iopub.status.idle": "2024-10-02T00:22:40.778692Z",
     "shell.execute_reply": "2024-10-02T00:22:40.777378Z"
    },
    "papermill": {
     "duration": 0.02677,
     "end_time": "2024-10-02T00:22:40.781535",
     "exception": false,
     "start_time": "2024-10-02T00:22:40.754765",
     "status": "completed"
    },
    "tags": []
   },
   "outputs": [],
   "source": [
    "#Dropping the two observations that are not a 0 or 1 but also have a timestamp.\n",
    "df = df[df['is_fraud'].isin(['1', '0'])]"
   ]
  },
  {
   "cell_type": "code",
   "execution_count": 14,
   "id": "84eabfa0",
   "metadata": {
    "execution": {
     "iopub.execute_input": "2024-10-02T00:22:40.803912Z",
     "iopub.status.busy": "2024-10-02T00:22:40.803448Z",
     "iopub.status.idle": "2024-10-02T00:22:40.809446Z",
     "shell.execute_reply": "2024-10-02T00:22:40.808338Z"
    },
    "papermill": {
     "duration": 0.020106,
     "end_time": "2024-10-02T00:22:40.811977",
     "exception": false,
     "start_time": "2024-10-02T00:22:40.791871",
     "status": "completed"
    },
    "tags": []
   },
   "outputs": [],
   "source": [
    "#This is not from baseline model. Remove transaction number, city, state, job, and merchant columns.\n",
    "df.drop(columns=['trans_num', 'city', 'state', 'job', 'merchant'], inplace=True)"
   ]
  },
  {
   "cell_type": "code",
   "execution_count": 15,
   "id": "2a773b05",
   "metadata": {},
   "outputs": [
    {
     "data": {
      "text/html": [
       "<div>\n",
       "<style scoped>\n",
       "    .dataframe tbody tr th:only-of-type {\n",
       "        vertical-align: middle;\n",
       "    }\n",
       "\n",
       "    .dataframe tbody tr th {\n",
       "        vertical-align: top;\n",
       "    }\n",
       "\n",
       "    .dataframe thead th {\n",
       "        text-align: right;\n",
       "    }\n",
       "</style>\n",
       "<table border=\"1\" class=\"dataframe\">\n",
       "  <thead>\n",
       "    <tr style=\"text-align: right;\">\n",
       "      <th></th>\n",
       "      <th>trans_date_trans_time</th>\n",
       "      <th>category</th>\n",
       "      <th>amt</th>\n",
       "      <th>lat</th>\n",
       "      <th>long</th>\n",
       "      <th>city_pop</th>\n",
       "      <th>dob</th>\n",
       "      <th>merch_lat</th>\n",
       "      <th>merch_long</th>\n",
       "      <th>is_fraud</th>\n",
       "    </tr>\n",
       "  </thead>\n",
       "  <tbody>\n",
       "    <tr>\n",
       "      <th>0</th>\n",
       "      <td>04-01-2019 00:58</td>\n",
       "      <td>grocery_net</td>\n",
       "      <td>14.37</td>\n",
       "      <td>64.7556</td>\n",
       "      <td>-165.6723</td>\n",
       "      <td>145</td>\n",
       "      <td>09-11-1939</td>\n",
       "      <td>65.654142</td>\n",
       "      <td>-164.722603</td>\n",
       "      <td>1</td>\n",
       "    </tr>\n",
       "    <tr>\n",
       "      <th>1</th>\n",
       "      <td>04-01-2019 15:06</td>\n",
       "      <td>shopping_net</td>\n",
       "      <td>966.11</td>\n",
       "      <td>64.7556</td>\n",
       "      <td>-165.6723</td>\n",
       "      <td>145</td>\n",
       "      <td>09-11-1939</td>\n",
       "      <td>65.468863</td>\n",
       "      <td>-165.473127</td>\n",
       "      <td>1</td>\n",
       "    </tr>\n",
       "    <tr>\n",
       "      <th>2</th>\n",
       "      <td>04-01-2019 22:37</td>\n",
       "      <td>misc_pos</td>\n",
       "      <td>49.61</td>\n",
       "      <td>64.7556</td>\n",
       "      <td>-165.6723</td>\n",
       "      <td>145</td>\n",
       "      <td>09-11-1939</td>\n",
       "      <td>65.347667</td>\n",
       "      <td>-165.914542</td>\n",
       "      <td>1</td>\n",
       "    </tr>\n",
       "    <tr>\n",
       "      <th>3</th>\n",
       "      <td>04-01-2019 23:06</td>\n",
       "      <td>grocery_pos</td>\n",
       "      <td>295.26</td>\n",
       "      <td>64.7556</td>\n",
       "      <td>-165.6723</td>\n",
       "      <td>145</td>\n",
       "      <td>09-11-1939</td>\n",
       "      <td>64.445035</td>\n",
       "      <td>-166.080207</td>\n",
       "      <td>1</td>\n",
       "    </tr>\n",
       "    <tr>\n",
       "      <th>4</th>\n",
       "      <td>04-01-2019 23:59</td>\n",
       "      <td>health_fitness</td>\n",
       "      <td>18.17</td>\n",
       "      <td>64.7556</td>\n",
       "      <td>-165.6723</td>\n",
       "      <td>145</td>\n",
       "      <td>09-11-1939</td>\n",
       "      <td>65.447094</td>\n",
       "      <td>-165.446843</td>\n",
       "      <td>1</td>\n",
       "    </tr>\n",
       "    <tr>\n",
       "      <th>...</th>\n",
       "      <td>...</td>\n",
       "      <td>...</td>\n",
       "      <td>...</td>\n",
       "      <td>...</td>\n",
       "      <td>...</td>\n",
       "      <td>...</td>\n",
       "      <td>...</td>\n",
       "      <td>...</td>\n",
       "      <td>...</td>\n",
       "      <td>...</td>\n",
       "    </tr>\n",
       "    <tr>\n",
       "      <th>14441</th>\n",
       "      <td>22-01-2019 00:37</td>\n",
       "      <td>shopping_pos</td>\n",
       "      <td>122.00</td>\n",
       "      <td>45.8289</td>\n",
       "      <td>-118.4971</td>\n",
       "      <td>1302</td>\n",
       "      <td>18-10-1976</td>\n",
       "      <td>46.442439</td>\n",
       "      <td>-118.524214</td>\n",
       "      <td>0</td>\n",
       "    </tr>\n",
       "    <tr>\n",
       "      <th>14442</th>\n",
       "      <td>22-01-2019 00:41</td>\n",
       "      <td>misc_pos</td>\n",
       "      <td>9.07</td>\n",
       "      <td>43.7857</td>\n",
       "      <td>-124.1437</td>\n",
       "      <td>260</td>\n",
       "      <td>01-09-1956</td>\n",
       "      <td>42.901265</td>\n",
       "      <td>-124.995317</td>\n",
       "      <td>0</td>\n",
       "    </tr>\n",
       "    <tr>\n",
       "      <th>14443</th>\n",
       "      <td>22-01-2019 00:42</td>\n",
       "      <td>grocery_pos</td>\n",
       "      <td>104.84</td>\n",
       "      <td>44.6873</td>\n",
       "      <td>-104.4414</td>\n",
       "      <td>110</td>\n",
       "      <td>16-05-1973</td>\n",
       "      <td>45.538062</td>\n",
       "      <td>-104.542117</td>\n",
       "      <td>0</td>\n",
       "    </tr>\n",
       "    <tr>\n",
       "      <th>14444</th>\n",
       "      <td>22-01-2019 00:48</td>\n",
       "      <td>shopping_pos</td>\n",
       "      <td>268.16</td>\n",
       "      <td>64.7556</td>\n",
       "      <td>-165.6723</td>\n",
       "      <td>145</td>\n",
       "      <td>09-11-1939</td>\n",
       "      <td>64.081462</td>\n",
       "      <td>-165.898698</td>\n",
       "      <td>0</td>\n",
       "    </tr>\n",
       "    <tr>\n",
       "      <th>14445</th>\n",
       "      <td>22-01-2019 00:55</td>\n",
       "      <td>food_dining</td>\n",
       "      <td>50.09</td>\n",
       "      <td>40.4815</td>\n",
       "      <td>-92.9951</td>\n",
       "      <td>3805</td>\n",
       "      <td>15-09-1950</td>\n",
       "      <td>40.387243</td>\n",
       "      <td>-92.224871</td>\n",
       "      <td>0</td>\n",
       "    </tr>\n",
       "  </tbody>\n",
       "</table>\n",
       "<p>14444 rows × 10 columns</p>\n",
       "</div>"
      ],
      "text/plain": [
       "      trans_date_trans_time        category     amt      lat      long  \\\n",
       "0          04-01-2019 00:58     grocery_net   14.37  64.7556 -165.6723   \n",
       "1          04-01-2019 15:06    shopping_net  966.11  64.7556 -165.6723   \n",
       "2          04-01-2019 22:37        misc_pos   49.61  64.7556 -165.6723   \n",
       "3          04-01-2019 23:06     grocery_pos  295.26  64.7556 -165.6723   \n",
       "4          04-01-2019 23:59  health_fitness   18.17  64.7556 -165.6723   \n",
       "...                     ...             ...     ...      ...       ...   \n",
       "14441      22-01-2019 00:37    shopping_pos  122.00  45.8289 -118.4971   \n",
       "14442      22-01-2019 00:41        misc_pos    9.07  43.7857 -124.1437   \n",
       "14443      22-01-2019 00:42     grocery_pos  104.84  44.6873 -104.4414   \n",
       "14444      22-01-2019 00:48    shopping_pos  268.16  64.7556 -165.6723   \n",
       "14445      22-01-2019 00:55     food_dining   50.09  40.4815  -92.9951   \n",
       "\n",
       "       city_pop         dob  merch_lat  merch_long is_fraud  \n",
       "0           145  09-11-1939  65.654142 -164.722603        1  \n",
       "1           145  09-11-1939  65.468863 -165.473127        1  \n",
       "2           145  09-11-1939  65.347667 -165.914542        1  \n",
       "3           145  09-11-1939  64.445035 -166.080207        1  \n",
       "4           145  09-11-1939  65.447094 -165.446843        1  \n",
       "...         ...         ...        ...         ...      ...  \n",
       "14441      1302  18-10-1976  46.442439 -118.524214        0  \n",
       "14442       260  01-09-1956  42.901265 -124.995317        0  \n",
       "14443       110  16-05-1973  45.538062 -104.542117        0  \n",
       "14444       145  09-11-1939  64.081462 -165.898698        0  \n",
       "14445      3805  15-09-1950  40.387243  -92.224871        0  \n",
       "\n",
       "[14444 rows x 10 columns]"
      ]
     },
     "execution_count": 15,
     "metadata": {},
     "output_type": "execute_result"
    }
   ],
   "source": [
    "df"
   ]
  },
  {
   "cell_type": "markdown",
   "id": "4db0c8ce",
   "metadata": {
    "papermill": {
     "duration": 0.010259,
     "end_time": "2024-10-02T00:22:40.832962",
     "exception": false,
     "start_time": "2024-10-02T00:22:40.822703",
     "status": "completed"
    },
    "tags": []
   },
   "source": [
    "#### Feature Engineering"
   ]
  },
  {
   "cell_type": "code",
   "execution_count": 16,
   "id": "82fa695c",
   "metadata": {
    "execution": {
     "iopub.execute_input": "2024-10-02T00:22:40.856964Z",
     "iopub.status.busy": "2024-10-02T00:22:40.856490Z",
     "iopub.status.idle": "2024-10-02T00:22:41.660807Z",
     "shell.execute_reply": "2024-10-02T00:22:41.659690Z"
    },
    "papermill": {
     "duration": 0.820121,
     "end_time": "2024-10-02T00:22:41.664019",
     "exception": false,
     "start_time": "2024-10-02T00:22:40.843898",
     "status": "completed"
    },
    "tags": []
   },
   "outputs": [],
   "source": [
    "#Creating an age category.\n",
    "df['dob'][0]\n",
    "\n",
    "df['trans_date_trans_time'] = pd.to_datetime(df['trans_date_trans_time'], format=\"%d-%m-%Y %H:%M\") #Convert the date into a datetime object.\n",
    "\n",
    "#Age of the person when they made the transaction.\n",
    "df['age'] = (df['trans_date_trans_time'] - pd.to_datetime(df['dob'], format=\"%d-%m-%Y\")).dt.days // 365 #Convert the date into years for age.\n",
    "\n",
    "# Extracting the time of the day\n",
    "df['time_of_day'] = df['trans_date_trans_time'].dt.strftime('%H:%M')\n",
    "\n",
    "# Hour of Day\n",
    "df['hour'] = df['trans_date_trans_time'].dt.hour\n",
    "\n",
    "#Extracting day of the week.\n",
    "df['day_of_week'] = df['trans_date_trans_time'].dt.day_name()\n",
    "\n",
    "#Create a new measure of the distance between lat and long and merchant lat and long\n",
    "## Define the Haversine function\n",
    "def haversine(lat1, lon1, lat2, lon2):\n",
    "    lat1, lon1, lat2, lon2 = map(math.radians, [lat1, lon1, lat2, lon2])\n",
    "    dlat = lat2 - lat1\n",
    "    dlon = lon2 - lon1\n",
    "    a = math.sin(dlat / 2) ** 2 + math.cos(lat1) * math.cos(lat2) * math.sin(dlon / 2) ** 2\n",
    "    c = 2 * math.asin(math.sqrt(a))\n",
    "    r = 6371.0  # Radius of Earth in kilometers\n",
    "    distance = r * c\n",
    "    return distance\n",
    "    \n",
    "## Apply Haversine function row-wise\n",
    "df['distance_km'] = df.apply(\n",
    "    lambda row: haversine(row['lat'], row['long'], row['merch_lat'], row['merch_long']),\n",
    "    axis=1\n",
    ")"
   ]
  },
  {
   "cell_type": "code",
   "execution_count": 17,
   "id": "9d1e6499",
   "metadata": {},
   "outputs": [
    {
     "data": {
      "text/html": [
       "<div>\n",
       "<style scoped>\n",
       "    .dataframe tbody tr th:only-of-type {\n",
       "        vertical-align: middle;\n",
       "    }\n",
       "\n",
       "    .dataframe tbody tr th {\n",
       "        vertical-align: top;\n",
       "    }\n",
       "\n",
       "    .dataframe thead th {\n",
       "        text-align: right;\n",
       "    }\n",
       "</style>\n",
       "<table border=\"1\" class=\"dataframe\">\n",
       "  <thead>\n",
       "    <tr style=\"text-align: right;\">\n",
       "      <th></th>\n",
       "      <th>trans_date_trans_time</th>\n",
       "      <th>category</th>\n",
       "      <th>amt</th>\n",
       "      <th>lat</th>\n",
       "      <th>long</th>\n",
       "      <th>city_pop</th>\n",
       "      <th>dob</th>\n",
       "      <th>merch_lat</th>\n",
       "      <th>merch_long</th>\n",
       "      <th>is_fraud</th>\n",
       "      <th>age</th>\n",
       "      <th>time_of_day</th>\n",
       "      <th>hour</th>\n",
       "      <th>day_of_week</th>\n",
       "      <th>distance_km</th>\n",
       "    </tr>\n",
       "  </thead>\n",
       "  <tbody>\n",
       "    <tr>\n",
       "      <th>0</th>\n",
       "      <td>2019-01-04 00:58:00</td>\n",
       "      <td>grocery_net</td>\n",
       "      <td>14.37</td>\n",
       "      <td>64.7556</td>\n",
       "      <td>-165.6723</td>\n",
       "      <td>145</td>\n",
       "      <td>09-11-1939</td>\n",
       "      <td>65.654142</td>\n",
       "      <td>-164.722603</td>\n",
       "      <td>1</td>\n",
       "      <td>79</td>\n",
       "      <td>00:58</td>\n",
       "      <td>0</td>\n",
       "      <td>Friday</td>\n",
       "      <td>109.285552</td>\n",
       "    </tr>\n",
       "    <tr>\n",
       "      <th>1</th>\n",
       "      <td>2019-01-04 15:06:00</td>\n",
       "      <td>shopping_net</td>\n",
       "      <td>966.11</td>\n",
       "      <td>64.7556</td>\n",
       "      <td>-165.6723</td>\n",
       "      <td>145</td>\n",
       "      <td>09-11-1939</td>\n",
       "      <td>65.468863</td>\n",
       "      <td>-165.473127</td>\n",
       "      <td>1</td>\n",
       "      <td>79</td>\n",
       "      <td>15:06</td>\n",
       "      <td>15</td>\n",
       "      <td>Friday</td>\n",
       "      <td>79.856896</td>\n",
       "    </tr>\n",
       "    <tr>\n",
       "      <th>2</th>\n",
       "      <td>2019-01-04 22:37:00</td>\n",
       "      <td>misc_pos</td>\n",
       "      <td>49.61</td>\n",
       "      <td>64.7556</td>\n",
       "      <td>-165.6723</td>\n",
       "      <td>145</td>\n",
       "      <td>09-11-1939</td>\n",
       "      <td>65.347667</td>\n",
       "      <td>-165.914542</td>\n",
       "      <td>1</td>\n",
       "      <td>79</td>\n",
       "      <td>22:37</td>\n",
       "      <td>22</td>\n",
       "      <td>Friday</td>\n",
       "      <td>66.807915</td>\n",
       "    </tr>\n",
       "    <tr>\n",
       "      <th>3</th>\n",
       "      <td>2019-01-04 23:06:00</td>\n",
       "      <td>grocery_pos</td>\n",
       "      <td>295.26</td>\n",
       "      <td>64.7556</td>\n",
       "      <td>-165.6723</td>\n",
       "      <td>145</td>\n",
       "      <td>09-11-1939</td>\n",
       "      <td>64.445035</td>\n",
       "      <td>-166.080207</td>\n",
       "      <td>1</td>\n",
       "      <td>79</td>\n",
       "      <td>23:06</td>\n",
       "      <td>23</td>\n",
       "      <td>Friday</td>\n",
       "      <td>39.636227</td>\n",
       "    </tr>\n",
       "    <tr>\n",
       "      <th>4</th>\n",
       "      <td>2019-01-04 23:59:00</td>\n",
       "      <td>health_fitness</td>\n",
       "      <td>18.17</td>\n",
       "      <td>64.7556</td>\n",
       "      <td>-165.6723</td>\n",
       "      <td>145</td>\n",
       "      <td>09-11-1939</td>\n",
       "      <td>65.447094</td>\n",
       "      <td>-165.446843</td>\n",
       "      <td>1</td>\n",
       "      <td>79</td>\n",
       "      <td>23:59</td>\n",
       "      <td>23</td>\n",
       "      <td>Friday</td>\n",
       "      <td>77.611529</td>\n",
       "    </tr>\n",
       "    <tr>\n",
       "      <th>...</th>\n",
       "      <td>...</td>\n",
       "      <td>...</td>\n",
       "      <td>...</td>\n",
       "      <td>...</td>\n",
       "      <td>...</td>\n",
       "      <td>...</td>\n",
       "      <td>...</td>\n",
       "      <td>...</td>\n",
       "      <td>...</td>\n",
       "      <td>...</td>\n",
       "      <td>...</td>\n",
       "      <td>...</td>\n",
       "      <td>...</td>\n",
       "      <td>...</td>\n",
       "      <td>...</td>\n",
       "    </tr>\n",
       "    <tr>\n",
       "      <th>14441</th>\n",
       "      <td>2019-01-22 00:37:00</td>\n",
       "      <td>shopping_pos</td>\n",
       "      <td>122.00</td>\n",
       "      <td>45.8289</td>\n",
       "      <td>-118.4971</td>\n",
       "      <td>1302</td>\n",
       "      <td>18-10-1976</td>\n",
       "      <td>46.442439</td>\n",
       "      <td>-118.524214</td>\n",
       "      <td>0</td>\n",
       "      <td>42</td>\n",
       "      <td>00:37</td>\n",
       "      <td>0</td>\n",
       "      <td>Tuesday</td>\n",
       "      <td>68.254405</td>\n",
       "    </tr>\n",
       "    <tr>\n",
       "      <th>14442</th>\n",
       "      <td>2019-01-22 00:41:00</td>\n",
       "      <td>misc_pos</td>\n",
       "      <td>9.07</td>\n",
       "      <td>43.7857</td>\n",
       "      <td>-124.1437</td>\n",
       "      <td>260</td>\n",
       "      <td>01-09-1956</td>\n",
       "      <td>42.901265</td>\n",
       "      <td>-124.995317</td>\n",
       "      <td>0</td>\n",
       "      <td>62</td>\n",
       "      <td>00:41</td>\n",
       "      <td>0</td>\n",
       "      <td>Tuesday</td>\n",
       "      <td>120.058408</td>\n",
       "    </tr>\n",
       "    <tr>\n",
       "      <th>14443</th>\n",
       "      <td>2019-01-22 00:42:00</td>\n",
       "      <td>grocery_pos</td>\n",
       "      <td>104.84</td>\n",
       "      <td>44.6873</td>\n",
       "      <td>-104.4414</td>\n",
       "      <td>110</td>\n",
       "      <td>16-05-1973</td>\n",
       "      <td>45.538062</td>\n",
       "      <td>-104.542117</td>\n",
       "      <td>0</td>\n",
       "      <td>45</td>\n",
       "      <td>00:42</td>\n",
       "      <td>0</td>\n",
       "      <td>Tuesday</td>\n",
       "      <td>94.929969</td>\n",
       "    </tr>\n",
       "    <tr>\n",
       "      <th>14444</th>\n",
       "      <td>2019-01-22 00:48:00</td>\n",
       "      <td>shopping_pos</td>\n",
       "      <td>268.16</td>\n",
       "      <td>64.7556</td>\n",
       "      <td>-165.6723</td>\n",
       "      <td>145</td>\n",
       "      <td>09-11-1939</td>\n",
       "      <td>64.081462</td>\n",
       "      <td>-165.898698</td>\n",
       "      <td>0</td>\n",
       "      <td>79</td>\n",
       "      <td>00:48</td>\n",
       "      <td>0</td>\n",
       "      <td>Tuesday</td>\n",
       "      <td>75.744640</td>\n",
       "    </tr>\n",
       "    <tr>\n",
       "      <th>14445</th>\n",
       "      <td>2019-01-22 00:55:00</td>\n",
       "      <td>food_dining</td>\n",
       "      <td>50.09</td>\n",
       "      <td>40.4815</td>\n",
       "      <td>-92.9951</td>\n",
       "      <td>3805</td>\n",
       "      <td>15-09-1950</td>\n",
       "      <td>40.387243</td>\n",
       "      <td>-92.224871</td>\n",
       "      <td>0</td>\n",
       "      <td>68</td>\n",
       "      <td>00:55</td>\n",
       "      <td>0</td>\n",
       "      <td>Tuesday</td>\n",
       "      <td>66.026003</td>\n",
       "    </tr>\n",
       "  </tbody>\n",
       "</table>\n",
       "<p>14444 rows × 15 columns</p>\n",
       "</div>"
      ],
      "text/plain": [
       "      trans_date_trans_time        category     amt      lat      long  \\\n",
       "0       2019-01-04 00:58:00     grocery_net   14.37  64.7556 -165.6723   \n",
       "1       2019-01-04 15:06:00    shopping_net  966.11  64.7556 -165.6723   \n",
       "2       2019-01-04 22:37:00        misc_pos   49.61  64.7556 -165.6723   \n",
       "3       2019-01-04 23:06:00     grocery_pos  295.26  64.7556 -165.6723   \n",
       "4       2019-01-04 23:59:00  health_fitness   18.17  64.7556 -165.6723   \n",
       "...                     ...             ...     ...      ...       ...   \n",
       "14441   2019-01-22 00:37:00    shopping_pos  122.00  45.8289 -118.4971   \n",
       "14442   2019-01-22 00:41:00        misc_pos    9.07  43.7857 -124.1437   \n",
       "14443   2019-01-22 00:42:00     grocery_pos  104.84  44.6873 -104.4414   \n",
       "14444   2019-01-22 00:48:00    shopping_pos  268.16  64.7556 -165.6723   \n",
       "14445   2019-01-22 00:55:00     food_dining   50.09  40.4815  -92.9951   \n",
       "\n",
       "       city_pop         dob  merch_lat  merch_long is_fraud  age time_of_day  \\\n",
       "0           145  09-11-1939  65.654142 -164.722603        1   79       00:58   \n",
       "1           145  09-11-1939  65.468863 -165.473127        1   79       15:06   \n",
       "2           145  09-11-1939  65.347667 -165.914542        1   79       22:37   \n",
       "3           145  09-11-1939  64.445035 -166.080207        1   79       23:06   \n",
       "4           145  09-11-1939  65.447094 -165.446843        1   79       23:59   \n",
       "...         ...         ...        ...         ...      ...  ...         ...   \n",
       "14441      1302  18-10-1976  46.442439 -118.524214        0   42       00:37   \n",
       "14442       260  01-09-1956  42.901265 -124.995317        0   62       00:41   \n",
       "14443       110  16-05-1973  45.538062 -104.542117        0   45       00:42   \n",
       "14444       145  09-11-1939  64.081462 -165.898698        0   79       00:48   \n",
       "14445      3805  15-09-1950  40.387243  -92.224871        0   68       00:55   \n",
       "\n",
       "       hour day_of_week  distance_km  \n",
       "0         0      Friday   109.285552  \n",
       "1        15      Friday    79.856896  \n",
       "2        22      Friday    66.807915  \n",
       "3        23      Friday    39.636227  \n",
       "4        23      Friday    77.611529  \n",
       "...     ...         ...          ...  \n",
       "14441     0     Tuesday    68.254405  \n",
       "14442     0     Tuesday   120.058408  \n",
       "14443     0     Tuesday    94.929969  \n",
       "14444     0     Tuesday    75.744640  \n",
       "14445     0     Tuesday    66.026003  \n",
       "\n",
       "[14444 rows x 15 columns]"
      ]
     },
     "execution_count": 17,
     "metadata": {},
     "output_type": "execute_result"
    }
   ],
   "source": [
    "df"
   ]
  },
  {
   "cell_type": "code",
   "execution_count": 18,
   "id": "42de91d1",
   "metadata": {
    "execution": {
     "iopub.execute_input": "2024-10-02T00:22:41.854367Z",
     "iopub.status.busy": "2024-10-02T00:22:41.853899Z",
     "iopub.status.idle": "2024-10-02T00:22:41.881776Z",
     "shell.execute_reply": "2024-10-02T00:22:41.880653Z"
    },
    "papermill": {
     "duration": 0.042753,
     "end_time": "2024-10-02T00:22:41.884728",
     "exception": false,
     "start_time": "2024-10-02T00:22:41.841975",
     "status": "completed"
    },
    "tags": []
   },
   "outputs": [],
   "source": [
    "#Transforming specific data into categorical variables.\n",
    "df['category'] = df['category'].astype('category')\n",
    "df['day_of_week'] = df['day_of_week'].astype('category')\n",
    "df['hour'] = df['hour'].astype('category')\n",
    "df['is_fraud'] = df['is_fraud'].astype(int)"
   ]
  },
  {
   "cell_type": "code",
   "execution_count": 19,
   "id": "582239d6",
   "metadata": {
    "execution": {
     "iopub.execute_input": "2024-10-02T00:22:41.907782Z",
     "iopub.status.busy": "2024-10-02T00:22:41.907345Z",
     "iopub.status.idle": "2024-10-02T00:22:41.934996Z",
     "shell.execute_reply": "2024-10-02T00:22:41.933628Z"
    },
    "papermill": {
     "duration": 0.042869,
     "end_time": "2024-10-02T00:22:41.938000",
     "exception": false,
     "start_time": "2024-10-02T00:22:41.895131",
     "status": "completed"
    },
    "tags": []
   },
   "outputs": [
    {
     "name": "stdout",
     "output_type": "stream",
     "text": [
      "<class 'pandas.core.frame.DataFrame'>\n",
      "Index: 14444 entries, 0 to 14445\n",
      "Data columns (total 15 columns):\n",
      " #   Column                 Non-Null Count  Dtype         \n",
      "---  ------                 --------------  -----         \n",
      " 0   trans_date_trans_time  14444 non-null  datetime64[ns]\n",
      " 1   category               14444 non-null  category      \n",
      " 2   amt                    14444 non-null  float64       \n",
      " 3   lat                    14444 non-null  float64       \n",
      " 4   long                   14444 non-null  float64       \n",
      " 5   city_pop               14444 non-null  int64         \n",
      " 6   dob                    14444 non-null  object        \n",
      " 7   merch_lat              14444 non-null  float64       \n",
      " 8   merch_long             14444 non-null  float64       \n",
      " 9   is_fraud               14444 non-null  int64         \n",
      " 10  age                    14444 non-null  int64         \n",
      " 11  time_of_day            14444 non-null  object        \n",
      " 12  hour                   14444 non-null  category      \n",
      " 13  day_of_week            14444 non-null  category      \n",
      " 14  distance_km            14444 non-null  float64       \n",
      "dtypes: category(3), datetime64[ns](1), float64(6), int64(3), object(2)\n",
      "memory usage: 2.0+ MB\n",
      "None\n"
     ]
    }
   ],
   "source": [
    "#Checking the variable types.\n",
    "print(df.info())"
   ]
  },
  {
   "cell_type": "code",
   "execution_count": 20,
   "id": "ac59f58c",
   "metadata": {
    "execution": {
     "iopub.execute_input": "2024-10-02T00:22:41.961779Z",
     "iopub.status.busy": "2024-10-02T00:22:41.961298Z",
     "iopub.status.idle": "2024-10-02T00:22:42.461579Z",
     "shell.execute_reply": "2024-10-02T00:22:42.460231Z"
    },
    "papermill": {
     "duration": 0.515911,
     "end_time": "2024-10-02T00:22:42.464335",
     "exception": false,
     "start_time": "2024-10-02T00:22:41.948424",
     "status": "completed"
    },
    "tags": []
   },
   "outputs": [
    {
     "data": {
      "image/png": "[encoded data removed]",
      "text/plain": [
       "<Figure size 1600x1200 with 2 Axes>"
      ]
     },
     "metadata": {},
     "output_type": "display_data"
    }
   ],
   "source": [
    "# The correlation matrix shows that the numeric data is not correlated.\n",
    "quantdata = df[[\"amt\", \"city_pop\", \"age\", \"distance_km\"]]\n",
    "corr_matrix = quantdata.corr()\n",
    "plt.figure(figsize=(16, 12))\n",
    "sns.heatmap(corr_matrix, annot=True, cmap='Blues')\n",
    "plt.title(\"Correlation Heatmap\")\n",
    "plt.show()"
   ]
  },
  {
   "cell_type": "code",
   "execution_count": 21,
   "id": "1911bd36",
   "metadata": {
    "execution": {
     "iopub.execute_input": "2024-10-02T00:22:42.490700Z",
     "iopub.status.busy": "2024-10-02T00:22:42.489428Z",
     "iopub.status.idle": "2024-10-02T00:22:42.504722Z",
     "shell.execute_reply": "2024-10-02T00:22:42.503632Z"
    },
    "papermill": {
     "duration": 0.031285,
     "end_time": "2024-10-02T00:22:42.507842",
     "exception": false,
     "start_time": "2024-10-02T00:22:42.476557",
     "status": "completed"
    },
    "tags": []
   },
   "outputs": [
    {
     "name": "stdout",
     "output_type": "stream",
     "text": [
      "trans_date_trans_time    0\n",
      "category                 0\n",
      "amt                      0\n",
      "lat                      0\n",
      "long                     0\n",
      "city_pop                 0\n",
      "dob                      0\n",
      "merch_lat                0\n",
      "merch_long               0\n",
      "is_fraud                 0\n",
      "age                      0\n",
      "time_of_day              0\n",
      "hour                     0\n",
      "day_of_week              0\n",
      "distance_km              0\n",
      "dtype: int64\n"
     ]
    }
   ],
   "source": [
    "#No NAs in dataset before data modeling.\n",
    "nan_counts = df.isna().sum()\n",
    "print(nan_counts)"
   ]
  },
  {
   "cell_type": "markdown",
   "id": "a50625e2",
   "metadata": {
    "papermill": {
     "duration": 0.011592,
     "end_time": "2024-10-02T00:22:42.531161",
     "exception": false,
     "start_time": "2024-10-02T00:22:42.519569",
     "status": "completed"
    },
    "tags": []
   },
   "source": [
    "### Logistic Regression to Predict Fraud"
   ]
  },
  {
   "cell_type": "code",
   "execution_count": 22,
   "id": "fc5ee903",
   "metadata": {
    "execution": {
     "iopub.execute_input": "2024-10-02T00:22:42.557439Z",
     "iopub.status.busy": "2024-10-02T00:22:42.556482Z",
     "iopub.status.idle": "2024-10-02T00:22:42.573241Z",
     "shell.execute_reply": "2024-10-02T00:22:42.571740Z"
    },
    "papermill": {
     "duration": 0.033137,
     "end_time": "2024-10-02T00:22:42.576265",
     "exception": false,
     "start_time": "2024-10-02T00:22:42.543128",
     "status": "completed"
    },
    "tags": []
   },
   "outputs": [],
   "source": [
    "#Split into Train and Test\n",
    "train_data, test_data = train_test_split(df, test_size=test_size, random_state=rState) #Test different test sizes. Also made random_state a variable."
   ]
  },
  {
   "cell_type": "code",
   "execution_count": 23,
   "id": "b1446cee",
   "metadata": {
    "execution": {
     "iopub.execute_input": "2024-10-02T00:22:42.604524Z",
     "iopub.status.busy": "2024-10-02T00:22:42.604076Z",
     "iopub.status.idle": "2024-10-02T00:22:42.854715Z",
     "shell.execute_reply": "2024-10-02T00:22:42.853010Z"
    },
    "papermill": {
     "duration": 0.268856,
     "end_time": "2024-10-02T00:22:42.859397",
     "exception": false,
     "start_time": "2024-10-02T00:22:42.590541",
     "status": "completed"
    },
    "tags": []
   },
   "outputs": [
    {
     "name": "stdout",
     "output_type": "stream",
     "text": [
      "Optimization terminated successfully.\n",
      "         Current function value: 0.163269\n",
      "         Iterations 9\n"
     ]
    }
   ],
   "source": [
    "#Formula for logistic regression model predictions.\n",
    "formula = \"is_fraud ~ age + amt + hour + category\" #Removed state from formula.\n",
    "\n",
    "#Create and train logistic regression model. \n",
    "log_reg = smf.logit(formula = formula, data = train_data).fit(maxiter=1000)"
   ]
  },
  {
   "cell_type": "code",
   "execution_count": 24,
   "id": "07078680",
   "metadata": {
    "execution": {
     "iopub.execute_input": "2024-10-02T00:22:42.909742Z",
     "iopub.status.busy": "2024-10-02T00:22:42.908972Z",
     "iopub.status.idle": "2024-10-02T00:22:43.201835Z",
     "shell.execute_reply": "2024-10-02T00:22:43.200606Z"
    },
    "papermill": {
     "duration": 0.320732,
     "end_time": "2024-10-02T00:22:43.204309",
     "exception": false,
     "start_time": "2024-10-02T00:22:42.883577",
     "status": "completed"
    },
    "tags": []
   },
   "outputs": [
    {
     "name": "stdout",
     "output_type": "stream",
     "text": [
      "Naive Accuracy: 0.870327641901246\n",
      "Model Accuracy: 0.949238578680203\n",
      "AUPRC: 0.8112733614139896\n",
      "4334\n"
     ]
    },
    {
     "data": {
      "text/html": [
       "<table class=\"simpletable\">\n",
       "<caption>Logit Regression Results</caption>\n",
       "<tr>\n",
       "  <th>Dep. Variable:</th>       <td>is_fraud</td>     <th>  No. Observations:  </th>  <td> 10110</td> \n",
       "</tr>\n",
       "<tr>\n",
       "  <th>Model:</th>                 <td>Logit</td>      <th>  Df Residuals:      </th>  <td> 10071</td> \n",
       "</tr>\n",
       "<tr>\n",
       "  <th>Method:</th>                 <td>MLE</td>       <th>  Df Model:          </th>  <td>    38</td> \n",
       "</tr>\n",
       "<tr>\n",
       "  <th>Date:</th>            <td>Fri, 25 Apr 2025</td> <th>  Pseudo R-squ.:     </th>  <td>0.5706</td> \n",
       "</tr>\n",
       "<tr>\n",
       "  <th>Time:</th>                <td>21:35:20</td>     <th>  Log-Likelihood:    </th> <td> -1650.7</td>\n",
       "</tr>\n",
       "<tr>\n",
       "  <th>converged:</th>             <td>True</td>       <th>  LL-Null:           </th> <td> -3844.5</td>\n",
       "</tr>\n",
       "<tr>\n",
       "  <th>Covariance Type:</th>     <td>nonrobust</td>    <th>  LLR p-value:       </th>  <td> 0.000</td> \n",
       "</tr>\n",
       "</table>\n",
       "<table class=\"simpletable\">\n",
       "<tr>\n",
       "               <td></td>                 <th>coef</th>     <th>std err</th>      <th>z</th>      <th>P>|z|</th>  <th>[0.025</th>    <th>0.975]</th>  \n",
       "</tr>\n",
       "<tr>\n",
       "  <th>Intercept</th>                  <td>   -4.7807</td> <td>    0.349</td> <td>  -13.711</td> <td> 0.000</td> <td>   -5.464</td> <td>   -4.097</td>\n",
       "</tr>\n",
       "<tr>\n",
       "  <th>hour[T.1]</th>                  <td>   -0.0189</td> <td>    0.191</td> <td>   -0.099</td> <td> 0.921</td> <td>   -0.394</td> <td>    0.356</td>\n",
       "</tr>\n",
       "<tr>\n",
       "  <th>hour[T.2]</th>                  <td>   -0.1703</td> <td>    0.201</td> <td>   -0.848</td> <td> 0.397</td> <td>   -0.564</td> <td>    0.224</td>\n",
       "</tr>\n",
       "<tr>\n",
       "  <th>hour[T.3]</th>                  <td>   -0.1370</td> <td>    0.196</td> <td>   -0.700</td> <td> 0.484</td> <td>   -0.521</td> <td>    0.247</td>\n",
       "</tr>\n",
       "<tr>\n",
       "  <th>hour[T.4]</th>                  <td>   -2.9908</td> <td>    0.527</td> <td>   -5.677</td> <td> 0.000</td> <td>   -4.023</td> <td>   -1.958</td>\n",
       "</tr>\n",
       "<tr>\n",
       "  <th>hour[T.5]</th>                  <td>   -2.2147</td> <td>    0.374</td> <td>   -5.918</td> <td> 0.000</td> <td>   -2.948</td> <td>   -1.481</td>\n",
       "</tr>\n",
       "<tr>\n",
       "  <th>hour[T.6]</th>                  <td>   -3.1524</td> <td>    0.600</td> <td>   -5.253</td> <td> 0.000</td> <td>   -4.328</td> <td>   -1.976</td>\n",
       "</tr>\n",
       "<tr>\n",
       "  <th>hour[T.7]</th>                  <td>   -2.5998</td> <td>    0.446</td> <td>   -5.832</td> <td> 0.000</td> <td>   -3.474</td> <td>   -1.726</td>\n",
       "</tr>\n",
       "<tr>\n",
       "  <th>hour[T.8]</th>                  <td>   -2.2000</td> <td>    0.375</td> <td>   -5.864</td> <td> 0.000</td> <td>   -2.935</td> <td>   -1.465</td>\n",
       "</tr>\n",
       "<tr>\n",
       "  <th>hour[T.9]</th>                  <td>   -2.1798</td> <td>    0.399</td> <td>   -5.463</td> <td> 0.000</td> <td>   -2.962</td> <td>   -1.398</td>\n",
       "</tr>\n",
       "<tr>\n",
       "  <th>hour[T.10]</th>                 <td>   -2.6448</td> <td>    0.457</td> <td>   -5.792</td> <td> 0.000</td> <td>   -3.540</td> <td>   -1.750</td>\n",
       "</tr>\n",
       "<tr>\n",
       "  <th>hour[T.11]</th>                 <td>   -3.5783</td> <td>    0.643</td> <td>   -5.566</td> <td> 0.000</td> <td>   -4.838</td> <td>   -2.318</td>\n",
       "</tr>\n",
       "<tr>\n",
       "  <th>hour[T.12]</th>                 <td>   -1.5976</td> <td>    0.472</td> <td>   -3.385</td> <td> 0.001</td> <td>   -2.522</td> <td>   -0.673</td>\n",
       "</tr>\n",
       "<tr>\n",
       "  <th>hour[T.13]</th>                 <td>   -1.5099</td> <td>    0.471</td> <td>   -3.208</td> <td> 0.001</td> <td>   -2.432</td> <td>   -0.587</td>\n",
       "</tr>\n",
       "<tr>\n",
       "  <th>hour[T.14]</th>                 <td>   -1.0046</td> <td>    0.415</td> <td>   -2.423</td> <td> 0.015</td> <td>   -1.817</td> <td>   -0.192</td>\n",
       "</tr>\n",
       "<tr>\n",
       "  <th>hour[T.15]</th>                 <td>   -0.9540</td> <td>    0.401</td> <td>   -2.380</td> <td> 0.017</td> <td>   -1.740</td> <td>   -0.168</td>\n",
       "</tr>\n",
       "<tr>\n",
       "  <th>hour[T.16]</th>                 <td>   -1.2751</td> <td>    0.431</td> <td>   -2.959</td> <td> 0.003</td> <td>   -2.120</td> <td>   -0.430</td>\n",
       "</tr>\n",
       "<tr>\n",
       "  <th>hour[T.17]</th>                 <td>   -1.2192</td> <td>    0.417</td> <td>   -2.924</td> <td> 0.003</td> <td>   -2.036</td> <td>   -0.402</td>\n",
       "</tr>\n",
       "<tr>\n",
       "  <th>hour[T.18]</th>                 <td>   -1.7712</td> <td>    0.447</td> <td>   -3.963</td> <td> 0.000</td> <td>   -2.647</td> <td>   -0.895</td>\n",
       "</tr>\n",
       "<tr>\n",
       "  <th>hour[T.19]</th>                 <td>   -1.8487</td> <td>    0.544</td> <td>   -3.397</td> <td> 0.001</td> <td>   -2.915</td> <td>   -0.782</td>\n",
       "</tr>\n",
       "<tr>\n",
       "  <th>hour[T.20]</th>                 <td>   -1.6190</td> <td>    0.467</td> <td>   -3.466</td> <td> 0.001</td> <td>   -2.534</td> <td>   -0.703</td>\n",
       "</tr>\n",
       "<tr>\n",
       "  <th>hour[T.21]</th>                 <td>   -1.8852</td> <td>    0.465</td> <td>   -4.056</td> <td> 0.000</td> <td>   -2.796</td> <td>   -0.974</td>\n",
       "</tr>\n",
       "<tr>\n",
       "  <th>hour[T.22]</th>                 <td>    1.7023</td> <td>    0.253</td> <td>    6.734</td> <td> 0.000</td> <td>    1.207</td> <td>    2.198</td>\n",
       "</tr>\n",
       "<tr>\n",
       "  <th>hour[T.23]</th>                 <td>    1.8187</td> <td>    0.252</td> <td>    7.229</td> <td> 0.000</td> <td>    1.326</td> <td>    2.312</td>\n",
       "</tr>\n",
       "<tr>\n",
       "  <th>category[T.food_dining]</th>    <td>    0.6369</td> <td>    0.325</td> <td>    1.961</td> <td> 0.050</td> <td>    0.000</td> <td>    1.273</td>\n",
       "</tr>\n",
       "<tr>\n",
       "  <th>category[T.gas_transport]</th>  <td>    2.8402</td> <td>    0.320</td> <td>    8.870</td> <td> 0.000</td> <td>    2.213</td> <td>    3.468</td>\n",
       "</tr>\n",
       "<tr>\n",
       "  <th>category[T.grocery_net]</th>    <td>    2.2091</td> <td>    0.392</td> <td>    5.636</td> <td> 0.000</td> <td>    1.441</td> <td>    2.977</td>\n",
       "</tr>\n",
       "<tr>\n",
       "  <th>category[T.grocery_pos]</th>    <td>    2.5909</td> <td>    0.302</td> <td>    8.583</td> <td> 0.000</td> <td>    1.999</td> <td>    3.183</td>\n",
       "</tr>\n",
       "<tr>\n",
       "  <th>category[T.health_fitness]</th> <td>    0.7095</td> <td>    0.326</td> <td>    2.178</td> <td> 0.029</td> <td>    0.071</td> <td>    1.348</td>\n",
       "</tr>\n",
       "<tr>\n",
       "  <th>category[T.home]</th>           <td>    0.3353</td> <td>    0.304</td> <td>    1.102</td> <td> 0.270</td> <td>   -0.261</td> <td>    0.932</td>\n",
       "</tr>\n",
       "<tr>\n",
       "  <th>category[T.kids_pets]</th>      <td>    0.8685</td> <td>    0.302</td> <td>    2.874</td> <td> 0.004</td> <td>    0.276</td> <td>    1.461</td>\n",
       "</tr>\n",
       "<tr>\n",
       "  <th>category[T.misc_net]</th>       <td>    0.0576</td> <td>    0.379</td> <td>    0.152</td> <td> 0.879</td> <td>   -0.685</td> <td>    0.800</td>\n",
       "</tr>\n",
       "<tr>\n",
       "  <th>category[T.misc_pos]</th>       <td>    1.3802</td> <td>    0.315</td> <td>    4.376</td> <td> 0.000</td> <td>    0.762</td> <td>    1.998</td>\n",
       "</tr>\n",
       "<tr>\n",
       "  <th>category[T.personal_care]</th>  <td>    1.1332</td> <td>    0.303</td> <td>    3.735</td> <td> 0.000</td> <td>    0.539</td> <td>    1.728</td>\n",
       "</tr>\n",
       "<tr>\n",
       "  <th>category[T.shopping_net]</th>   <td>   -1.0213</td> <td>    0.375</td> <td>   -2.726</td> <td> 0.006</td> <td>   -1.756</td> <td>   -0.287</td>\n",
       "</tr>\n",
       "<tr>\n",
       "  <th>category[T.shopping_pos]</th>   <td>   -0.9910</td> <td>    0.369</td> <td>   -2.683</td> <td> 0.007</td> <td>   -1.715</td> <td>   -0.267</td>\n",
       "</tr>\n",
       "<tr>\n",
       "  <th>category[T.travel]</th>         <td>    1.2662</td> <td>    0.356</td> <td>    3.557</td> <td> 0.000</td> <td>    0.569</td> <td>    1.964</td>\n",
       "</tr>\n",
       "<tr>\n",
       "  <th>age</th>                        <td>    0.0071</td> <td>    0.003</td> <td>    2.651</td> <td> 0.008</td> <td>    0.002</td> <td>    0.012</td>\n",
       "</tr>\n",
       "<tr>\n",
       "  <th>amt</th>                        <td>    0.0084</td> <td>    0.000</td> <td>   25.328</td> <td> 0.000</td> <td>    0.008</td> <td>    0.009</td>\n",
       "</tr>\n",
       "</table>"
      ],
      "text/latex": [
       "\\begin{center}\n",
       "\\begin{tabular}{lclc}\n",
       "\\toprule\n",
       "\\textbf{Dep. Variable:}              &    is\\_fraud     & \\textbf{  No. Observations:  } &    10110    \\\\\n",
       "\\textbf{Model:}                      &      Logit       & \\textbf{  Df Residuals:      } &    10071    \\\\\n",
       "\\textbf{Method:}                     &       MLE        & \\textbf{  Df Model:          } &       38    \\\\\n",
       "\\textbf{Date:}                       & Fri, 25 Apr 2025 & \\textbf{  Pseudo R-squ.:     } &   0.5706    \\\\\n",
       "\\textbf{Time:}                       &     21:35:20     & \\textbf{  Log-Likelihood:    } &   -1650.7   \\\\\n",
       "\\textbf{converged:}                  &       True       & \\textbf{  LL-Null:           } &   -3844.5   \\\\\n",
       "\\textbf{Covariance Type:}            &    nonrobust     & \\textbf{  LLR p-value:       } &    0.000    \\\\\n",
       "\\bottomrule\n",
       "\\end{tabular}\n",
       "\\begin{tabular}{lcccccc}\n",
       "                                     & \\textbf{coef} & \\textbf{std err} & \\textbf{z} & \\textbf{P$> |$z$|$} & \\textbf{[0.025} & \\textbf{0.975]}  \\\\\n",
       "\\midrule\n",
       "\\textbf{Intercept}                   &      -4.7807  &        0.349     &   -13.711  &         0.000        &       -5.464    &       -4.097     \\\\\n",
       "\\textbf{hour[T.1]}                   &      -0.0189  &        0.191     &    -0.099  &         0.921        &       -0.394    &        0.356     \\\\\n",
       "\\textbf{hour[T.2]}                   &      -0.1703  &        0.201     &    -0.848  &         0.397        &       -0.564    &        0.224     \\\\\n",
       "\\textbf{hour[T.3]}                   &      -0.1370  &        0.196     &    -0.700  &         0.484        &       -0.521    &        0.247     \\\\\n",
       "\\textbf{hour[T.4]}                   &      -2.9908  &        0.527     &    -5.677  &         0.000        &       -4.023    &       -1.958     \\\\\n",
       "\\textbf{hour[T.5]}                   &      -2.2147  &        0.374     &    -5.918  &         0.000        &       -2.948    &       -1.481     \\\\\n",
       "\\textbf{hour[T.6]}                   &      -3.1524  &        0.600     &    -5.253  &         0.000        &       -4.328    &       -1.976     \\\\\n",
       "\\textbf{hour[T.7]}                   &      -2.5998  &        0.446     &    -5.832  &         0.000        &       -3.474    &       -1.726     \\\\\n",
       "\\textbf{hour[T.8]}                   &      -2.2000  &        0.375     &    -5.864  &         0.000        &       -2.935    &       -1.465     \\\\\n",
       "\\textbf{hour[T.9]}                   &      -2.1798  &        0.399     &    -5.463  &         0.000        &       -2.962    &       -1.398     \\\\\n",
       "\\textbf{hour[T.10]}                  &      -2.6448  &        0.457     &    -5.792  &         0.000        &       -3.540    &       -1.750     \\\\\n",
       "\\textbf{hour[T.11]}                  &      -3.5783  &        0.643     &    -5.566  &         0.000        &       -4.838    &       -2.318     \\\\\n",
       "\\textbf{hour[T.12]}                  &      -1.5976  &        0.472     &    -3.385  &         0.001        &       -2.522    &       -0.673     \\\\\n",
       "\\textbf{hour[T.13]}                  &      -1.5099  &        0.471     &    -3.208  &         0.001        &       -2.432    &       -0.587     \\\\\n",
       "\\textbf{hour[T.14]}                  &      -1.0046  &        0.415     &    -2.423  &         0.015        &       -1.817    &       -0.192     \\\\\n",
       "\\textbf{hour[T.15]}                  &      -0.9540  &        0.401     &    -2.380  &         0.017        &       -1.740    &       -0.168     \\\\\n",
       "\\textbf{hour[T.16]}                  &      -1.2751  &        0.431     &    -2.959  &         0.003        &       -2.120    &       -0.430     \\\\\n",
       "\\textbf{hour[T.17]}                  &      -1.2192  &        0.417     &    -2.924  &         0.003        &       -2.036    &       -0.402     \\\\\n",
       "\\textbf{hour[T.18]}                  &      -1.7712  &        0.447     &    -3.963  &         0.000        &       -2.647    &       -0.895     \\\\\n",
       "\\textbf{hour[T.19]}                  &      -1.8487  &        0.544     &    -3.397  &         0.001        &       -2.915    &       -0.782     \\\\\n",
       "\\textbf{hour[T.20]}                  &      -1.6190  &        0.467     &    -3.466  &         0.001        &       -2.534    &       -0.703     \\\\\n",
       "\\textbf{hour[T.21]}                  &      -1.8852  &        0.465     &    -4.056  &         0.000        &       -2.796    &       -0.974     \\\\\n",
       "\\textbf{hour[T.22]}                  &       1.7023  &        0.253     &     6.734  &         0.000        &        1.207    &        2.198     \\\\\n",
       "\\textbf{hour[T.23]}                  &       1.8187  &        0.252     &     7.229  &         0.000        &        1.326    &        2.312     \\\\\n",
       "\\textbf{category[T.food\\_dining]}    &       0.6369  &        0.325     &     1.961  &         0.050        &        0.000    &        1.273     \\\\\n",
       "\\textbf{category[T.gas\\_transport]}  &       2.8402  &        0.320     &     8.870  &         0.000        &        2.213    &        3.468     \\\\\n",
       "\\textbf{category[T.grocery\\_net]}    &       2.2091  &        0.392     &     5.636  &         0.000        &        1.441    &        2.977     \\\\\n",
       "\\textbf{category[T.grocery\\_pos]}    &       2.5909  &        0.302     &     8.583  &         0.000        &        1.999    &        3.183     \\\\\n",
       "\\textbf{category[T.health\\_fitness]} &       0.7095  &        0.326     &     2.178  &         0.029        &        0.071    &        1.348     \\\\\n",
       "\\textbf{category[T.home]}            &       0.3353  &        0.304     &     1.102  &         0.270        &       -0.261    &        0.932     \\\\\n",
       "\\textbf{category[T.kids\\_pets]}      &       0.8685  &        0.302     &     2.874  &         0.004        &        0.276    &        1.461     \\\\\n",
       "\\textbf{category[T.misc\\_net]}       &       0.0576  &        0.379     &     0.152  &         0.879        &       -0.685    &        0.800     \\\\\n",
       "\\textbf{category[T.misc\\_pos]}       &       1.3802  &        0.315     &     4.376  &         0.000        &        0.762    &        1.998     \\\\\n",
       "\\textbf{category[T.personal\\_care]}  &       1.1332  &        0.303     &     3.735  &         0.000        &        0.539    &        1.728     \\\\\n",
       "\\textbf{category[T.shopping\\_net]}   &      -1.0213  &        0.375     &    -2.726  &         0.006        &       -1.756    &       -0.287     \\\\\n",
       "\\textbf{category[T.shopping\\_pos]}   &      -0.9910  &        0.369     &    -2.683  &         0.007        &       -1.715    &       -0.267     \\\\\n",
       "\\textbf{category[T.travel]}          &       1.2662  &        0.356     &     3.557  &         0.000        &        0.569    &        1.964     \\\\\n",
       "\\textbf{age}                         &       0.0071  &        0.003     &     2.651  &         0.008        &        0.002    &        0.012     \\\\\n",
       "\\textbf{amt}                         &       0.0084  &        0.000     &    25.328  &         0.000        &        0.008    &        0.009     \\\\\n",
       "\\bottomrule\n",
       "\\end{tabular}\n",
       "%\\caption{Logit Regression Results}\n",
       "\\end{center}"
      ],
      "text/plain": [
       "<class 'statsmodels.iolib.summary.Summary'>\n",
       "\"\"\"\n",
       "                           Logit Regression Results                           \n",
       "==============================================================================\n",
       "Dep. Variable:               is_fraud   No. Observations:                10110\n",
       "Model:                          Logit   Df Residuals:                    10071\n",
       "Method:                           MLE   Df Model:                           38\n",
       "Date:                Fri, 25 Apr 2025   Pseudo R-squ.:                  0.5706\n",
       "Time:                        21:35:20   Log-Likelihood:                -1650.7\n",
       "converged:                       True   LL-Null:                       -3844.5\n",
       "Covariance Type:            nonrobust   LLR p-value:                     0.000\n",
       "==============================================================================================\n",
       "                                 coef    std err          z      P>|z|      [0.025      0.975]\n",
       "----------------------------------------------------------------------------------------------\n",
       "Intercept                     -4.7807      0.349    -13.711      0.000      -5.464      -4.097\n",
       "hour[T.1]                     -0.0189      0.191     -0.099      0.921      -0.394       0.356\n",
       "hour[T.2]                     -0.1703      0.201     -0.848      0.397      -0.564       0.224\n",
       "hour[T.3]                     -0.1370      0.196     -0.700      0.484      -0.521       0.247\n",
       "hour[T.4]                     -2.9908      0.527     -5.677      0.000      -4.023      -1.958\n",
       "hour[T.5]                     -2.2147      0.374     -5.918      0.000      -2.948      -1.481\n",
       "hour[T.6]                     -3.1524      0.600     -5.253      0.000      -4.328      -1.976\n",
       "hour[T.7]                     -2.5998      0.446     -5.832      0.000      -3.474      -1.726\n",
       "hour[T.8]                     -2.2000      0.375     -5.864      0.000      -2.935      -1.465\n",
       "hour[T.9]                     -2.1798      0.399     -5.463      0.000      -2.962      -1.398\n",
       "hour[T.10]                    -2.6448      0.457     -5.792      0.000      -3.540      -1.750\n",
       "hour[T.11]                    -3.5783      0.643     -5.566      0.000      -4.838      -2.318\n",
       "hour[T.12]                    -1.5976      0.472     -3.385      0.001      -2.522      -0.673\n",
       "hour[T.13]                    -1.5099      0.471     -3.208      0.001      -2.432      -0.587\n",
       "hour[T.14]                    -1.0046      0.415     -2.423      0.015      -1.817      -0.192\n",
       "hour[T.15]                    -0.9540      0.401     -2.380      0.017      -1.740      -0.168\n",
       "hour[T.16]                    -1.2751      0.431     -2.959      0.003      -2.120      -0.430\n",
       "hour[T.17]                    -1.2192      0.417     -2.924      0.003      -2.036      -0.402\n",
       "hour[T.18]                    -1.7712      0.447     -3.963      0.000      -2.647      -0.895\n",
       "hour[T.19]                    -1.8487      0.544     -3.397      0.001      -2.915      -0.782\n",
       "hour[T.20]                    -1.6190      0.467     -3.466      0.001      -2.534      -0.703\n",
       "hour[T.21]                    -1.8852      0.465     -4.056      0.000      -2.796      -0.974\n",
       "hour[T.22]                     1.7023      0.253      6.734      0.000       1.207       2.198\n",
       "hour[T.23]                     1.8187      0.252      7.229      0.000       1.326       2.312\n",
       "category[T.food_dining]        0.6369      0.325      1.961      0.050       0.000       1.273\n",
       "category[T.gas_transport]      2.8402      0.320      8.870      0.000       2.213       3.468\n",
       "category[T.grocery_net]        2.2091      0.392      5.636      0.000       1.441       2.977\n",
       "category[T.grocery_pos]        2.5909      0.302      8.583      0.000       1.999       3.183\n",
       "category[T.health_fitness]     0.7095      0.326      2.178      0.029       0.071       1.348\n",
       "category[T.home]               0.3353      0.304      1.102      0.270      -0.261       0.932\n",
       "category[T.kids_pets]          0.8685      0.302      2.874      0.004       0.276       1.461\n",
       "category[T.misc_net]           0.0576      0.379      0.152      0.879      -0.685       0.800\n",
       "category[T.misc_pos]           1.3802      0.315      4.376      0.000       0.762       1.998\n",
       "category[T.personal_care]      1.1332      0.303      3.735      0.000       0.539       1.728\n",
       "category[T.shopping_net]      -1.0213      0.375     -2.726      0.006      -1.756      -0.287\n",
       "category[T.shopping_pos]      -0.9910      0.369     -2.683      0.007      -1.715      -0.267\n",
       "category[T.travel]             1.2662      0.356      3.557      0.000       0.569       1.964\n",
       "age                            0.0071      0.003      2.651      0.008       0.002       0.012\n",
       "amt                            0.0084      0.000     25.328      0.000       0.008       0.009\n",
       "==============================================================================================\n",
       "\"\"\""
      ]
     },
     "metadata": {},
     "output_type": "display_data"
    }
   ],
   "source": [
    "#Predict Probabilities\n",
    "preds = log_reg.predict(test_data)\n",
    "\n",
    "#Add predictions and agreement columns to the test dataframe.\n",
    "test_data['prob'] = preds\n",
    "test_data['prediction'] = np.where(test_data['prob'] > prediction_threshold, 1, 0) #Made prediction_threshold a variable.\n",
    "test_data['agree'] = np.where(test_data['prediction'] == test_data['is_fraud'], 1, 0)\n",
    "\n",
    "#Calculate naive accuracy, model accuracy, and AUC.\n",
    "naive_accuracy = 1 - test_data['is_fraud'].sum() / len(test_data)\n",
    "accuracy = test_data['agree'].sum() / len(test_data)\n",
    "auprc = average_precision_score(test_data['is_fraud'], preds)\n",
    "\n",
    "#Identify Disagreements\n",
    "disagree = test_data[test_data['agree'] == 0]\n",
    "\n",
    "#Display Results. Don't round the metrics, as we want to see the full precision of the numbers.\n",
    "print(f\"Naive Accuracy: {naive_accuracy}\")\n",
    "print(f\"Model Accuracy: {accuracy}\")\n",
    "print(f\"AUPRC: {auprc}\")\n",
    "print(len(test_data))\n",
    "display(log_reg.summary())"
   ]
  },
  {
   "cell_type": "code",
   "execution_count": 25,
   "id": "3115d81f",
   "metadata": {
    "execution": {
     "iopub.execute_input": "2024-10-02T00:22:43.231853Z",
     "iopub.status.busy": "2024-10-02T00:22:43.231349Z",
     "iopub.status.idle": "2024-10-02T00:22:43.451263Z",
     "shell.execute_reply": "2024-10-02T00:22:43.450128Z"
    },
    "papermill": {
     "duration": 0.237291,
     "end_time": "2024-10-02T00:22:43.454067",
     "exception": false,
     "start_time": "2024-10-02T00:22:43.216776",
     "status": "completed"
    },
    "tags": []
   },
   "outputs": [
    {
     "data": {
      "image/png": "[encoded data removed]",
      "text/plain": [
       "<Figure size 800x600 with 1 Axes>"
      ]
     },
     "metadata": {},
     "output_type": "display_data"
    },
    {
     "name": "stdout",
     "output_type": "stream",
     "text": [
      "-----------------------------------------------------------------\n",
      "                    Classification Report\n",
      "              precision    recall  f1-score   support\n",
      "\n",
      "           0       0.96      0.98      0.97      3772\n",
      "           1       0.86      0.72      0.79       562\n",
      "\n",
      "    accuracy                           0.95      4334\n",
      "   macro avg       0.91      0.85      0.88      4334\n",
      "weighted avg       0.95      0.95      0.95      4334\n",
      "\n"
     ]
    }
   ],
   "source": [
    "# Compute the confusion matrix\n",
    "cm = confusion_matrix(test_data['is_fraud'], test_data['prediction'], normalize=\"true\") #Regularized confusion matrix.\n",
    "\n",
    "# Define labels for the classes\n",
    "labels = [\"Not Fraud\", \"Fraud\"]\n",
    "\n",
    "#Create confusion matrix plot.\n",
    "plt.figure(figsize=(8,6))\n",
    "sns.heatmap(cm, annot=True, fmt='.2%', cmap='Blues', cbar=False, \n",
    "            xticklabels=labels, yticklabels=labels, annot_kws={\"size\": 12}) #Added precision of two and made it display in percentage.\n",
    "plt.xlabel('Predicted Labels')\n",
    "plt.ylabel('True Labels')\n",
    "plt.title('Confusion Matrix')\n",
    "plt.show()\n",
    "\n",
    "\n",
    "print(\"-\" * 65)\n",
    "print(' ' * 20 + \"Classification Report\")\n",
    "print(classification_report(test_data['is_fraud'], test_data['prediction']))"
   ]
  },
  {
   "cell_type": "code",
   "execution_count": 26,
   "id": "d4cd8996",
   "metadata": {
    "execution": {
     "iopub.execute_input": "2024-10-02T00:22:43.482154Z",
     "iopub.status.busy": "2024-10-02T00:22:43.481710Z",
     "iopub.status.idle": "2024-10-02T00:22:43.861751Z",
     "shell.execute_reply": "2024-10-02T00:22:43.860644Z"
    },
    "papermill": {
     "duration": 0.397245,
     "end_time": "2024-10-02T00:22:43.864470",
     "exception": false,
     "start_time": "2024-10-02T00:22:43.467225",
     "status": "completed"
    },
    "tags": []
   },
   "outputs": [
    {
     "data": {
      "image/png": "[encoded data removed]",
      "text/plain": [
       "<Figure size 800x600 with 1 Axes>"
      ]
     },
     "metadata": {},
     "output_type": "display_data"
    },
    {
     "name": "stdout",
     "output_type": "stream",
     "text": [
      "AUPRC: 0.8113\n"
     ]
    }
   ],
   "source": [
    "#Plot average precision-recall curve instead of ROC curve.\n",
    "preds = log_reg.predict(test_data)\n",
    "y_pred_proba = 1 / (1 + np.exp(-preds))\n",
    "\n",
    "# Calculate precision-recall curve\n",
    "precision, recall, thresholds = precision_recall_curve(test_data['is_fraud'], y_pred_proba)\n",
    "# Calculate area under precision-recall curve\n",
    "auprc = average_precision_score(test_data['is_fraud'], y_pred_proba)\n",
    "\n",
    "# Plot the precision-recall curve\n",
    "plt.figure(figsize=(8, 6))\n",
    "plt.plot(recall, precision, color='b', label=f'AUPRC = {auprc:.3f}')\n",
    "\n",
    "# Add a line for random performance (class imbalance ratio)\n",
    "no_skill = len(test_data[test_data['is_fraud'] == 1]) / len(test_data)\n",
    "plt.plot([0, 1], [no_skill, no_skill], 'r--', label=f'Random (AUPRC = {no_skill:.3f})')\n",
    "\n",
    "plt.xlabel('Recall')\n",
    "plt.ylabel('Precision')\n",
    "plt.title('Precision-Recall Curve')\n",
    "plt.legend(loc='best')\n",
    "plt.grid(True)\n",
    "plt.show()\n",
    "\n",
    "# Print the AUPRC score in your results section\n",
    "print(f\"AUPRC: {auprc:.4f}\")"
   ]
  },
  {
   "cell_type": "code",
   "execution_count": 27,
   "id": "e409be91",
   "metadata": {},
   "outputs": [
    {
     "name": "stdout",
     "output_type": "stream",
     "text": [
      "\n",
      "==================================================\n",
      "Learning Curve Analysis for Logistic Regression\n",
      "==================================================\n",
      "\n"
     ]
    },
    {
     "data": {
      "image/png": "[encoded data removed]",
      "text/plain": [
       "<Figure size 1000x600 with 1 Axes>"
      ]
     },
     "metadata": {},
     "output_type": "display_data"
    },
    {
     "name": "stdout",
     "output_type": "stream",
     "text": [
      "Training examples\tTraining Score\tValidation Score\n",
      "808\t\t0.6671\t\t0.6381\n",
      "1617\t\t0.6558\t\t0.6395\n",
      "2426\t\t0.6606\t\t0.6384\n",
      "3235\t\t0.6578\t\t0.6439\n",
      "4044\t\t0.6554\t\t0.6413\n",
      "4852\t\t0.6511\t\t0.6415\n",
      "5661\t\t0.6507\t\t0.6417\n",
      "6470\t\t0.6504\t\t0.6405\n",
      "7279\t\t0.6496\t\t0.6418\n",
      "8088\t\t0.6508\t\t0.6460\n"
     ]
    }
   ],
   "source": [
    "# Add learning curve analysis - place this after your existing logistic regression code\n",
    "from sklearn.model_selection import learning_curve\n",
    "from sklearn.linear_model import LogisticRegression\n",
    "from sklearn.preprocessing import OneHotEncoder\n",
    "\n",
    "print(\"\\n\" + \"=\"*50)\n",
    "print(\"Learning Curve Analysis for Logistic Regression\")\n",
    "print(\"=\"*50 + \"\\n\")\n",
    "\n",
    "# Extract the features needed (the same ones used in your formula)\n",
    "X_features = ['age', 'amt', 'hour', 'category']\n",
    "\n",
    "# Create a copy of our data for sklearn's model\n",
    "X_train = train_data[X_features].copy()\n",
    "y_train = train_data['is_fraud'].copy()\n",
    "\n",
    "# One-hot encode categorical features\n",
    "categorical_features = ['hour', 'category']\n",
    "X_train_encoded = pd.get_dummies(X_train, columns=categorical_features, drop_first=True)\n",
    "\n",
    "# Initialize the logistic regression model\n",
    "sklearn_log_reg = LogisticRegression(max_iter=1000, class_weight='balanced')\n",
    "\n",
    "# Calculate learning curve using F1 score since dataset is imbalanced\n",
    "train_sizes, train_scores, valid_scores = learning_curve(\n",
    "    sklearn_log_reg, X_train_encoded, y_train, \n",
    "    train_sizes=np.linspace(0.1, 1.0, 10),  # Train on 10%, 20%, ..., 100% of data\n",
    "    cv=5,  # 5-fold cross-validation\n",
    "    scoring='f1',  # Using F1 score for imbalanced data\n",
    "    n_jobs=-1  # Use all available cores\n",
    ")\n",
    "\n",
    "# Calculate mean and standard deviation of training and validation scores\n",
    "train_mean = np.mean(train_scores, axis=1)\n",
    "train_std = np.std(train_scores, axis=1)\n",
    "valid_mean = np.mean(valid_scores, axis=1)\n",
    "valid_std = np.std(valid_scores, axis=1)\n",
    "\n",
    "# Plot the learning curve\n",
    "plt.figure(figsize=(10, 6))\n",
    "plt.title(\"Learning Curve for Logistic Regression (F1 Score)\")\n",
    "plt.xlabel(\"Training Examples\")\n",
    "plt.ylabel(\"F1 Score\")\n",
    "plt.grid()\n",
    "\n",
    "plt.fill_between(train_sizes, train_mean - train_std, train_mean + train_std, alpha=0.1, color=\"blue\")\n",
    "plt.fill_between(train_sizes, valid_mean - valid_std, valid_mean + valid_std, alpha=0.1, color=\"red\")\n",
    "plt.plot(train_sizes, train_mean, 'o-', color=\"blue\", label=\"Training score\")\n",
    "plt.plot(train_sizes, valid_mean, 'o-', color=\"red\", label=\"Cross-validation score\")\n",
    "\n",
    "plt.legend(loc=\"best\")\n",
    "plt.show()\n",
    "\n",
    "# Print numeric results\n",
    "print(\"Training examples\\tTraining Score\\tValidation Score\")\n",
    "for i in range(len(train_sizes)):\n",
    "    print(f\"{train_sizes[i]:.0f}\\t\\t{train_mean[i]:.4f}\\t\\t{valid_mean[i]:.4f}\")"
   ]
  },
  {
   "cell_type": "markdown",
   "id": "a509f96d",
   "metadata": {
    "papermill": {
     "duration": 0.013326,
     "end_time": "2024-10-02T00:22:43.891731",
     "exception": false,
     "start_time": "2024-10-02T00:22:43.878405",
     "status": "completed"
    },
    "tags": []
   },
   "source": [
    "### Gradient Boosted Random Forest for Fraud Prediction"
   ]
  },
  {
   "cell_type": "code",
   "execution_count": 28,
   "id": "c5b80889",
   "metadata": {
    "execution": {
     "iopub.execute_input": "2024-10-02T00:22:43.921192Z",
     "iopub.status.busy": "2024-10-02T00:22:43.920741Z",
     "iopub.status.idle": "2024-10-02T00:22:43.953743Z",
     "shell.execute_reply": "2024-10-02T00:22:43.952466Z"
    },
    "papermill": {
     "duration": 0.051339,
     "end_time": "2024-10-02T00:22:43.956751",
     "exception": false,
     "start_time": "2024-10-02T00:22:43.905412",
     "status": "completed"
    },
    "tags": []
   },
   "outputs": [],
   "source": [
    "#creating a new dataframe for the Random Forest\n",
    "dftree = df[['is_fraud', 'category', 'amt', 'city_pop', 'age', 'hour', 'day_of_week', 'distance_km']].copy() #Removed merchant and professions from list.\n",
    "\n",
    "# Initialize the label encoder\n",
    "le = LabelEncoder()\n",
    "\n",
    "# Apply label encoding to each categorical column\n",
    "dftree['category'] = le.fit_transform(dftree['category'])\n",
    "dftree['day_of_week'] = le.fit_transform(dftree['day_of_week'])\n",
    "dftree['hour'] = le.fit_transform(dftree['hour'])\n"
   ]
  },
  {
   "cell_type": "code",
   "execution_count": 29,
   "id": "97fe737d",
   "metadata": {
    "execution": {
     "iopub.execute_input": "2024-10-02T00:22:43.986536Z",
     "iopub.status.busy": "2024-10-02T00:22:43.986071Z",
     "iopub.status.idle": "2024-10-02T00:22:46.138642Z",
     "shell.execute_reply": "2024-10-02T00:22:46.136715Z"
    },
    "papermill": {
     "duration": 2.172882,
     "end_time": "2024-10-02T00:22:46.143302",
     "exception": false,
     "start_time": "2024-10-02T00:22:43.970420",
     "status": "completed"
    },
    "tags": []
   },
   "outputs": [
    {
     "data": {
      "image/png": "[encoded data removed]",
      "text/plain": [
       "<Figure size 800x600 with 1 Axes>"
      ]
     },
     "metadata": {},
     "output_type": "display_data"
    },
    {
     "name": "stdout",
     "output_type": "stream",
     "text": [
      "############################################################\n",
      "                     Classification Report\n",
      "              precision    recall  f1-score   support\n",
      "\n",
      "           0       0.98      0.99      0.99      3781\n",
      "           1       0.96      0.88      0.92       553\n",
      "\n",
      "    accuracy                           0.98      4334\n",
      "   macro avg       0.97      0.94      0.95      4334\n",
      "weighted avg       0.98      0.98      0.98      4334\n",
      "\n"
     ]
    }
   ],
   "source": [
    "# Splitting the dataset into train and test sets\n",
    "X = dftree.drop(columns=['is_fraud'])  # Features\n",
    "y = dftree['is_fraud']                # Target variable\n",
    "\n",
    "X_train, X_test, y_train, y_test = train_test_split(X, y, test_size=0.3, random_state=42, stratify=y)\n",
    "\n",
    "# Initialize Random Forest with class weight to handle imbalanced classes\n",
    "rf = RandomForestClassifier(class_weight='balanced', random_state=42)\n",
    "\n",
    "# Train the model\n",
    "rf.fit(X_train, y_train)\n",
    "\n",
    "# Make predictions\n",
    "y_pred = rf.predict(X_test)\n",
    "y_prob = rf.predict_proba(X_test)[:, 1]  # For AUC-ROC score\n",
    "\n",
    "\n",
    "# Compute the confusion matrix\n",
    "cm1 = confusion_matrix(y_test, y_pred, normalize=\"true\") #Normalized confusion matrix.\n",
    "# Define labels for the classes\n",
    "labels = [\"Not Fraud\", \"Fraud\"]\n",
    "plt.figure(figsize=(8,6))\n",
    "sns.heatmap(cm1, annot=True, fmt='.2%', cmap='Blues', cbar=False,\n",
    "            xticklabels=labels, yticklabels=labels, annot_kws={\"size\": 12}) #Added precision of two and made it display in percentage.\n",
    "plt.xlabel('Predicted Labels')\n",
    "plt.ylabel('True Labels')\n",
    "plt.title('Confusion Matrix')\n",
    "plt.show()\n",
    "\n",
    "print(\"#\" * 60)\n",
    "print(\" \" * 20, \"Classification Report\")\n",
    "print(classification_report(y_test, y_pred))"
   ]
  },
  {
   "cell_type": "code",
   "execution_count": 30,
   "id": "671b597d",
   "metadata": {
    "execution": {
     "iopub.execute_input": "2024-10-02T00:22:46.188795Z",
     "iopub.status.busy": "2024-10-02T00:22:46.188319Z",
     "iopub.status.idle": "2024-10-02T00:22:46.531288Z",
     "shell.execute_reply": "2024-10-02T00:22:46.530047Z"
    },
    "papermill": {
     "duration": 0.363002,
     "end_time": "2024-10-02T00:22:46.534348",
     "exception": false,
     "start_time": "2024-10-02T00:22:46.171346",
     "status": "completed"
    },
    "tags": []
   },
   "outputs": [
    {
     "data": {
      "image/png": "[encoded data removed]",
      "text/plain": [
       "<Figure size 1000x600 with 1 Axes>"
      ]
     },
     "metadata": {},
     "output_type": "display_data"
    }
   ],
   "source": [
    "importances = rf.feature_importances_\n",
    "\n",
    "indices = np.argsort(importances)[::-1]\n",
    "\n",
    "feature_names = X_train.columns\n",
    "\n",
    "# Plot feature importances\n",
    "plt.figure(figsize=(10, 6))\n",
    "plt.xlabel(\"Feature Names\")\n",
    "plt.ylabel(\"Feature Importance\") #Come back and rename if needed.\n",
    "plt.title(\"Feature Importance in Random Forest\")\n",
    "plt.bar(range(X_train.shape[1]), importances[indices], align=\"center\")\n",
    "plt.xticks(range(X_train.shape[1]), np.array(feature_names)[indices], rotation=90)\n",
    "plt.xlim([-1, X_train.shape[1]])\n",
    "plt.show()"
   ]
  },
  {
   "cell_type": "code",
   "execution_count": 31,
   "id": "595d4575",
   "metadata": {
    "execution": {
     "iopub.execute_input": "2024-10-02T00:22:46.568244Z",
     "iopub.status.busy": "2024-10-02T00:22:46.567758Z",
     "iopub.status.idle": "2024-10-02T00:22:46.574502Z",
     "shell.execute_reply": "2024-10-02T00:22:46.573275Z"
    },
    "papermill": {
     "duration": 0.026707,
     "end_time": "2024-10-02T00:22:46.577088",
     "exception": false,
     "start_time": "2024-10-02T00:22:46.550381",
     "status": "completed"
    },
    "tags": []
   },
   "outputs": [
    {
     "name": "stdout",
     "output_type": "stream",
     "text": [
      "{'bootstrap': True, 'ccp_alpha': 0.0, 'class_weight': 'balanced', 'criterion': 'gini', 'max_depth': None, 'max_features': 'sqrt', 'max_leaf_nodes': None, 'max_samples': None, 'min_impurity_decrease': 0.0, 'min_samples_leaf': 1, 'min_samples_split': 2, 'min_weight_fraction_leaf': 0.0, 'monotonic_cst': None, 'n_estimators': 100, 'n_jobs': None, 'oob_score': False, 'random_state': 42, 'verbose': 0, 'warm_start': False}\n"
     ]
    }
   ],
   "source": [
    "print(rf.get_params())"
   ]
  },
  {
   "cell_type": "code",
   "execution_count": 32,
   "id": "ee16bf65",
   "metadata": {
    "execution": {
     "iopub.execute_input": "2024-10-02T00:22:46.610657Z",
     "iopub.status.busy": "2024-10-02T00:22:46.610140Z",
     "iopub.status.idle": "2024-10-02T00:22:46.885406Z",
     "shell.execute_reply": "2024-10-02T00:22:46.883882Z"
    },
    "papermill": {
     "duration": 0.296185,
     "end_time": "2024-10-02T00:22:46.888269",
     "exception": false,
     "start_time": "2024-10-02T00:22:46.592084",
     "status": "completed"
    },
    "tags": []
   },
   "outputs": [
    {
     "data": {
      "image/png": "[encoded data removed]",
      "text/plain": [
       "<Figure size 800x600 with 1 Axes>"
      ]
     },
     "metadata": {},
     "output_type": "display_data"
    }
   ],
   "source": [
    "from sklearn.metrics import auc\n",
    "fpr, tpr, thresholds = roc_curve(y_test, y_prob)\n",
    "\n",
    "roc_auc = auc(fpr, tpr)\n",
    "\n",
    "# Plot the ROC curve\n",
    "plt.figure(figsize=(8, 6))\n",
    "plt.plot(fpr, tpr, color='b', lw=2, label='ROC curve (AUC = %0.2f)' % roc_auc)\n",
    "plt.plot([0, 1], [0, 1], 'r--', label='Random Guessing')\n",
    "plt.xlim([0.0, 1.0])\n",
    "plt.ylim([0.0, 1.05])\n",
    "plt.xlabel('False Positive Rate')\n",
    "plt.ylabel('True Positive Rate')\n",
    "plt.title('Receiver Operating Characteristic (ROC)')\n",
    "plt.legend(loc=\"lower right\")\n",
    "plt.show()\n",
    "\n"
   ]
  },
  {
   "cell_type": "code",
   "execution_count": 33,
   "id": "cd5d1458",
   "metadata": {
    "execution": {
     "iopub.execute_input": "2024-10-02T00:22:46.923852Z",
     "iopub.status.busy": "2024-10-02T00:22:46.922448Z",
     "iopub.status.idle": "2024-10-02T00:22:56.654710Z",
     "shell.execute_reply": "2024-10-02T00:22:56.652847Z"
    },
    "papermill": {
     "duration": 9.753476,
     "end_time": "2024-10-02T00:22:56.657708",
     "exception": false,
     "start_time": "2024-10-02T00:22:46.904232",
     "status": "completed"
    },
    "tags": []
   },
   "outputs": [
    {
     "name": "stdout",
     "output_type": "stream",
     "text": [
      "AUC scores for each fold: [0.99387233 0.98961533 0.99423098 0.98958952 0.98931914]\n",
      "Mean AUC score: 0.9913254579599797\n"
     ]
    }
   ],
   "source": [
    "# Perform 5-fold cross-validation\n",
    "scores = cross_val_score(rf, X, y, cv=5, scoring='roc_auc')\n",
    "\n",
    "# Print each fold's AUC score and the average\n",
    "print(\"AUC scores for each fold:\", scores)\n",
    "print(\"Mean AUC score:\", scores.mean())"
   ]
  }
 ],
 "metadata": {
  "kaggle": {
   "accelerator": "none",
   "dataSources": [
    {
     "datasetId": 5465782,
     "sourceId": 9063308,
     "sourceType": "datasetVersion"
    }
   ],
   "dockerImageVersionId": 30775,
   "isGpuEnabled": false,
   "isInternetEnabled": true,
   "language": "python",
   "sourceType": "notebook"
  },
  "kernelspec": {
   "display_name": "myenv",
   "language": "python",
   "name": "python3"
  },
  "language_info": {
   "codemirror_mode": {
    "name": "ipython",
    "version": 3
   },
   "file_extension": ".py",
   "mimetype": "text/x-python",
   "name": "python",
   "nbconvert_exporter": "python",
   "pygments_lexer": "ipython3",
   "version": "3.10.16"
  },
  "papermill": {
   "default_parameters": {},
   "duration": 26.298513,
   "end_time": "2024-10-02T00:22:57.597657",
   "environment_variables": {},
   "exception": null,
   "input_path": "__notebook__.ipynb",
   "output_path": "__notebook__.ipynb",
   "parameters": {},
   "start_time": "2024-10-02T00:22:31.299144",
   "version": "2.6.0"
  }
 },
 "nbformat": 4,
 "nbformat_minor": 5
}
